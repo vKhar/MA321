{
 "cells": [
  {
   "cell_type": "markdown",
   "id": "a54e1795",
   "metadata": {},
   "source": [
    "# Assignment 01\n",
    "\n",
    "[![Open In Colab](https://colab.research.google.com/assets/colab-badge.svg)](https://colab.research.google.com/github/beertino/MA321/blob/main/2025/Assignment/Assignment%2001.ipynb)  "
   ]
  },
  {
   "cell_type": "markdown",
   "id": "26bcc353",
   "metadata": {},
   "source": [
    "#### Question 1.1 Last 3 Digits\n",
    "Write a program that:\n",
    "- assign your chosen number to the variable `num`\n",
    "- print out the last 3 digits of `num`\n",
    "\n",
    "Sample of values of `num` and the corresponding expected outputs:\n",
    "\n",
    "`num`   | Expected output\n",
    ":-      |:-\n",
    "`12321` | `321`\n",
    "`1000`  | `0`\n",
    "`99`    | `99`"
   ]
  },
  {
   "cell_type": "code",
   "execution_count": null,
   "id": "2a12a39c",
   "metadata": {},
   "outputs": [],
   "source": [
    "#YOUR_CODE_HERE"
   ]
  },
  {
   "cell_type": "markdown",
   "id": "47c763ea",
   "metadata": {},
   "source": [
    "#### Question 1.2 Form an integer knowing its digits\n",
    "\n",
    "Each positive integer can be calculated by its digits and powers of 10. For example:\n",
    "\n",
    "$ 123456789 = 1 \\times 10^8 + 2 \\times 10^7 + 3 \\times 10^6 + 4 \\times 10^5 + 5 \\times 10^4 + 6 \\times 10^3 + 7 \\times 10^2 + 8 \\times 10^1 + 9 \\times 10^0 $.\n",
    "\n",
    "Write a program that:\n",
    "- assign your 4 chosen integers to the variables `thousands_digit`, `hundreds_digit`, `tens_digit` and `ones_digit`\n",
    "- assign the 4-digit number where the digits in thousands, hundreds, tens and ones place is equal to `thousands_digit`,  `hundreds_digit`, `tens_digit` and `ones_digit` respectively, to the variable `four_digit`\n",
    "- print out the 4-digit number\n",
    "Code below to find `four_digit` knowing each of its digits `.\n",
    "\n",
    "Sample of values of `thousands_digit`, `hundreds_digit`, `tens_digit` and `ones_digit` and the corresponding expected outputs:\n",
    "\n",
    "`thousands_digit`| `hundreds_digit`| `tens_digit`| `ones_digit`| Expected output\n",
    ":-               |:-               |:-           |:-           |:-\n",
    "`2`              |`0`              | `2`         | `1`         | `2021`\n",
    "`9`              |`7`              | `5`         | `3`         | `9753`"
   ]
  },
  {
   "cell_type": "code",
   "execution_count": null,
   "id": "12f23567",
   "metadata": {},
   "outputs": [],
   "source": [
    "#YOUR_CODE_HERE"
   ]
  },
  {
   "cell_type": "markdown",
   "id": "1ab893f8",
   "metadata": {},
   "source": [
    "#### Question 1.3 Inserting Parentheses\n",
    "```python\n",
    "current = 100 // 7 + 2 ** 4 - 2 * 2\n",
    "```\n",
    "The value of `current` is 26. This value can be altered by inserting pair(s) of `()` into the expression on the right hand side of the assignment statement\n",
    "\n",
    "Write a program to obtain the maximum and minimum possible values by doing so."
   ]
  },
  {
   "cell_type": "code",
   "execution_count": null,
   "id": "08f7278b",
   "metadata": {},
   "outputs": [],
   "source": [
    "current = 100 // 7 + 2 ** 4 - 2 * 2\n",
    "\n",
    "maximum = 100 // 7 + 2 ** 4 - 2 * 2 #<- insert ()s here\n",
    "minimum = 100 // 7 + 2 ** 4 - 2 * 2 #<- insert ()s here\n",
    "\n",
    "print(maximum)\n",
    "print(minimum)"
   ]
  },
  {
   "cell_type": "markdown",
   "id": "a447fca8",
   "metadata": {},
   "source": [
    "#### Question 1.4 Power of `abs()`\n",
    "\n",
    "In python, we can use `abs()` command to find the absolute value of a numeric data type (`int`, `float` or `complex`), e.g. the value of `abs(-2)` is 2.\n",
    "\n",
    "Write a program that:\n",
    "- assigns two predetermined integers value to the variables `num1` and `num2`\n",
    "- assign the larger integer to the variable `larger`\n",
    "- print out `larger`\n",
    "\n",
    "```text\n",
    "Test Case 1:\n",
    "num1 = 15\n",
    "num2 = 17\n",
    "\n",
    "Expected output: 17\n",
    "-------------------\n",
    "Test Case 2:\n",
    "num1 = 18\n",
    "num2 = 17\n",
    "\n",
    "Expected output: 18\n",
    "```"
   ]
  },
  {
   "cell_type": "code",
   "execution_count": null,
   "id": "6a57571a",
   "metadata": {},
   "outputs": [],
   "source": [
    "#num1 = 15\n",
    "#num2 = 17\n",
    "\n",
    "#code to find the larger number here\n",
    "\n",
    "#print(larger)"
   ]
  },
  {
   "cell_type": "markdown",
   "id": "d22b1d1e",
   "metadata": {},
   "source": [
    "*Hint: recall you do you find two numbers given their sum and difference in Primary School.*"
   ]
  }
 ],
 "metadata": {
  "kernelspec": {
   "display_name": "Python 3 (ipykernel)",
   "language": "python",
   "name": "python3"
  },
  "language_info": {
   "codemirror_mode": {
    "name": "ipython",
    "version": 3
   },
   "file_extension": ".py",
   "mimetype": "text/x-python",
   "name": "python",
   "nbconvert_exporter": "python",
   "pygments_lexer": "ipython3",
   "version": "3.10.2"
  }
 },
 "nbformat": 4,
 "nbformat_minor": 5
}
