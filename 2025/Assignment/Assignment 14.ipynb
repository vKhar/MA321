{
 "cells": [
  {
   "cell_type": "markdown",
   "id": "d1324420",
   "metadata": {},
   "source": [
    "## Question 1 What Does It Do\n",
    "Leo and Anjay are playing around with block coding. They have figured out through trial and error that `div` takes the result of a division and rounds it down to a whole number, and that `mod` takes the remainder.\n",
    "\n",
    "For example:\n",
    "\n",
    "```text\n",
    "90 div 7 is 12\n",
    "90 mod 7 is 1.\n",
    "```\n",
    "\n",
    "Leo has given Anjay the following function called `WhatDoesItDo`, which takes an integer `M` as input. The function first checks the size of `M` before deciding what part of the program to follow. **The function continues until it reaches the end of the instructions.**\n",
    "\n",
    "<center>\n",
    "\n",
    "<img src=\"https://github.com/beertino/MA321/blob/main/2025/Assignment/img/beb_2023_r2_y1112_whatdoesitdo.png?raw=true\" width=\"600\" align=\"center\"/>\n",
    "\n",
    "</center>\n",
    "\n",
    "## Task 1\n",
    "Write a function `whatDoesItDo` that:\n",
    "- takes in an integer `M` as parameter,\n",
    "- implement the logic presented in the block code above.\n",
    "\n",
    "Note that `write` in the block code is the same as `print()`\n",
    "\n",
    "<div style=\"text-align: right\">[2]</div>"
   ]
  },
  {
   "cell_type": "code",
   "execution_count": null,
   "id": "74a2df2e",
   "metadata": {},
   "outputs": [],
   "source": [
    "## YOUR CODE HERE"
   ]
  },
  {
   "cell_type": "markdown",
   "id": "604e8632",
   "metadata": {},
   "source": [
    "## Task 2\n",
    "Test your program with 30241 as the value of `M`.\n",
    "\n",
    "<div style=\"text-align: right\">[1]</div>"
   ]
  },
  {
   "cell_type": "code",
   "execution_count": null,
   "id": "50d9fe1d",
   "metadata": {},
   "outputs": [],
   "source": [
    "## YOUR CODE HERE"
   ]
  },
  {
   "cell_type": "markdown",
   "id": "3f8052bc",
   "metadata": {},
   "source": [
    "# Question 2 Text Machine\n",
    "We have two types of text machines:\n",
    "\n",
    "- A **`+`** machine (left) takes two pieces of text and joins them,\n",
    "- A `<` machine (right) takes one piece of text and reverses it.\n",
    "\n",
    "<center>\n",
    "\n",
    "<img src=\"https://github.com/beertino/MA321/blob/main/2025/Assignment/img/beb_2014_r2_y1112_textmachine_1.png?raw=true\" width=\"300\" align=\"center\"/>\n",
    "\n",
    "<img src=\"https://github.com/beertino/MA321/blob/main/2025/Assignment/img/beb_2014_r2_y1112_textmachine_2.png?raw=true\" width=\"150\" align=\"center\"/>\n",
    "\n",
    "</center>\n",
    "\n",
    "By linking two **`+`**  machines and one **`<`** machine to each other we get a more complex text machine. \n",
    "\n",
    "It needs three pieces of text (in the grey ellipses) and writes text in the white ellipses.\n",
    "\n",
    "<center>\n",
    "\n",
    "<img src=\"https://github.com/beertino/MA321/blob/main/2025/Assignment/img/beb_2014_r2_y1112_textmachine_3.png?raw=true\" width=\"600\" align=\"center\"/>\n",
    "\n",
    "</center>\n",
    "\n",
    "## Programming Task 1\n",
    "\n",
    "Write a function `tm_plus()`  that:\n",
    "- takes in two strings `left` and `right`,\n",
    "- returns a string which is a concatenation of the strings `left`  and `right`. \n",
    "<div style=\"text-align: right\">[1]</div>"
   ]
  },
  {
   "cell_type": "code",
   "execution_count": null,
   "id": "971ad8c3",
   "metadata": {},
   "outputs": [],
   "source": [
    "## YOUR CODE HERE"
   ]
  },
  {
   "cell_type": "markdown",
   "id": "b3b63b0f",
   "metadata": {},
   "source": [
    "## Task 2\n",
    "\n",
    "Write a function `tm_leq()` that:\n",
    "\n",
    "- takes in a string `s` ,\n",
    "- returns a string which is the reverse of string `s`.\n",
    "<div style=\"text-align: right\">[2]</div>"
   ]
  },
  {
   "cell_type": "code",
   "execution_count": null,
   "id": "4c0b94ec",
   "metadata": {},
   "outputs": [],
   "source": [
    "## YOUR CODE HERE"
   ]
  },
  {
   "cell_type": "markdown",
   "id": "b0ad14ff",
   "metadata": {},
   "source": [
    "## Task 3\n",
    "Write a program to determine which of the following three text pieces \n",
    "\n",
    "- `AMR OFNI TION`\n",
    "- `INF ORMA TION`\n",
    "- `AMR OFNI NOIT`\n",
    "- `FNI AMRO NOIT`\n",
    "\n",
    "need to put in the text machine described above in order to get the text `INFORMATION` in the lowest ellipse.\n",
    "\n",
    "Your program needs to include:\n",
    "\n",
    "- the use of `tm_plus()` and `tm_leq()` ,\n",
    "- at least one loop construct. \n",
    "<div style=\"text-align: right\">[4]</div>"
   ]
  },
  {
   "cell_type": "code",
   "execution_count": null,
   "id": "58894e9b",
   "metadata": {},
   "outputs": [],
   "source": [
    "## YOUR CODE HERE"
   ]
  },
  {
   "cell_type": "markdown",
   "id": "37552c42",
   "metadata": {},
   "source": [
    "# Question 3 Box Jump\n",
    "There are 8 boxes on a shelf. The positions of the boxes are labelled from 1 to 8.\n",
    "\n",
    "Each box contains an instruction for how a game piece should move.\n",
    "\n",
    "An example of each instruction type is given below:\n",
    "\n",
    "1. Movement to the Left\n",
    "    \n",
    "    e.g. 2L means move two boxes to the left.\n",
    "    \n",
    "    <center>\n",
    "\n",
    "    <img src=\"https://github.com/beertino/MA321/blob/main/2025/Assignment/img/beb_boxjump_1.png?raw=true\" width=\"600\" align=\"center\"/>\n",
    "\n",
    "    </center>\n",
    "    \n",
    "2. Movement to the Right\n",
    "    \n",
    "    e.g. 3R means move three boxes to the right.\n",
    "    \n",
    "    <center>\n",
    "\n",
    "    <img src=\"https://github.com/beertino/MA321/blob/main/2025/Assignment/img/beb_boxjump_2.png?raw=true\" width=\"600\" align=\"center\"/>\n",
    "\n",
    "    </center>\n",
    "    \n",
    "3. Do not move\n",
    "    \n",
    "    If the rule says \"0\", do not move from this box at all.\n",
    "    \n",
    "\n",
    "Consider these instructions:\n",
    "\n",
    "<center>\n",
    "\n",
    "<img src=\"https://github.com/beertino/MA321/blob/main/2025/Assignment/img/beb_boxjump_3.png?raw=true\" width=\"600\" align=\"center\"/>\n",
    "\n",
    "</center>\n",
    "\n",
    "## Task 1\n",
    "Represent each of the instructions in the question above with an appropriate data type. \n",
    "<div style=\"text-align: right\">[1]</div>"
   ]
  },
  {
   "cell_type": "code",
   "execution_count": null,
   "id": "658e535a",
   "metadata": {},
   "outputs": [],
   "source": [
    "## YOUR CODE HERE"
   ]
  },
  {
   "cell_type": "markdown",
   "id": "fdb90a9a",
   "metadata": {},
   "source": [
    "## Task 2\n",
    "Write a function `box_jump()` that:\n",
    "- takes in a collections of box numbers with instructions `instructions_collection`,\n",
    "- returns the box number to start on such that, by following the rules, all the boxes would be touched. \n",
    "<div style=\"text-align: right\">[5]</div>"
   ]
  },
  {
   "cell_type": "code",
   "execution_count": null,
   "id": "700351f3",
   "metadata": {},
   "outputs": [],
   "source": [
    "## YOUR CODE HERE"
   ]
  },
  {
   "cell_type": "markdown",
   "id": "1c66d1e5",
   "metadata": {},
   "source": [
    "## Task 3\n",
    "Test your function from Task 2 on the instructions given in Task 1. \n",
    "<div style=\"text-align: right\">[1]</div>"
   ]
  },
  {
   "cell_type": "code",
   "execution_count": null,
   "id": "d683aef8",
   "metadata": {},
   "outputs": [],
   "source": [
    "## YOUR CODE HERE"
   ]
  },
  {
   "cell_type": "markdown",
   "id": "53bc98a8",
   "metadata": {},
   "source": [
    "## Question 4 Find The Units Digit\n",
    "Let $n$ be an integer. The **product value** of $n$ is defined to be the product of all digits of $n$ where the $0$ digits in $n$ is replaced with $1$. For example, the product values of \n",
    "- $50$, $500$ are both $5$,\n",
    "- $320$, $16$ are both $6$.\n",
    "\n",
    "## Task 1\n",
    "Write a function `product_value` that:\n",
    "- takes in an integer `n` as a parameter\n",
    "- returns the product value of `n`.\n",
    "<div style=\"text-align: right\">[4]</div>"
   ]
  },
  {
   "cell_type": "code",
   "execution_count": null,
   "id": "525ea4af",
   "metadata": {},
   "outputs": [],
   "source": [
    "## YOUR CODE HERE"
   ]
  },
  {
   "cell_type": "markdown",
   "id": "eeb5dcab",
   "metadata": {},
   "source": [
    "## Task 2\n",
    "Test your function with `50, 500, 320, 16` as values of `n`.\n",
    "<div style=\"text-align: right\">[1]</div>"
   ]
  },
  {
   "cell_type": "code",
   "execution_count": null,
   "id": "e1900adb",
   "metadata": {},
   "outputs": [],
   "source": [
    "## YOUR CODE HERE"
   ]
  },
  {
   "cell_type": "markdown",
   "id": "99f1b369",
   "metadata": {},
   "source": [
    "## Task 3\n",
    "Let $S$ denotes the sum of product values of integers from $0$ to $10^{100}-1$ inclusive.\n",
    "\n",
    "Find the units digits of $S$.\n",
    "<div style=\"text-align: right\">[4]</div>\n",
    "\n",
    "Challenge: solve this in 10 minutes without running a code and on your own. "
   ]
  },
  {
   "cell_type": "code",
   "execution_count": null,
   "id": "ffb79b10",
   "metadata": {},
   "outputs": [],
   "source": [
    "## YOUR CODE HERE"
   ]
  }
 ],
 "metadata": {
  "language_info": {
   "name": "python"
  }
 },
 "nbformat": 4,
 "nbformat_minor": 5
}
