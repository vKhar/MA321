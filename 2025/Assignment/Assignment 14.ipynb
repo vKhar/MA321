{
  "cells": [
    {
      "cell_type": "markdown",
      "metadata": {
        "id": "view-in-github",
        "colab_type": "text"
      },
      "source": [
        "<a href=\"https://colab.research.google.com/github/vKhar/MA321/blob/T3W2/2025/Assignment/Assignment%2014.ipynb\" target=\"_parent\"><img src=\"https://colab.research.google.com/assets/colab-badge.svg\" alt=\"Open In Colab\"/></a>"
      ]
    },
    {
      "cell_type": "markdown",
      "id": "d1324420",
      "metadata": {
        "id": "d1324420"
      },
      "source": [
        "## Question 1 What Does It Do\n",
        "Leo and Anjay are playing around with block coding. They have figured out through trial and error that `div` takes the result of a division and rounds it down to a whole number, and that `mod` takes the remainder.\n",
        "\n",
        "For example:\n",
        "\n",
        "```text\n",
        "90 div 7 is 12\n",
        "90 mod 7 is 1.\n",
        "```\n",
        "\n",
        "Leo has given Anjay the following function called `WhatDoesItDo`, which takes an integer `M` as input. The function first checks the size of `M` before deciding what part of the program to follow. **The function continues until it reaches the end of the instructions.**\n",
        "\n",
        "<center>\n",
        "\n",
        "<img src=\"https://github.com/beertino/MA321/blob/main/2025/Assignment/img/beb_2023_r2_y1112_whatdoesitdo.png?raw=1\" width=\"600\" align=\"center\"/>\n",
        "\n",
        "</center>\n",
        "\n",
        "## Task 1\n",
        "Write a function `whatDoesItDo` that:\n",
        "- takes in an integer `M` as parameter,\n",
        "- implement the logic presented in the block code above.\n",
        "\n",
        "Note that `write` in the block code is the same as `print()`\n",
        "\n",
        "<div style=\"text-align: right\">[2]</div>"
      ]
    },
    {
      "cell_type": "code",
      "execution_count": 6,
      "id": "74a2df2e",
      "metadata": {
        "id": "74a2df2e"
      },
      "outputs": [],
      "source": [
        "## YOUR CODE HERE\n",
        "def whatDoesItDo(M):\n",
        " if M < 10:\n",
        "  print(M,end='')\n",
        " else:\n",
        "  whatDoesItDo(M//10)\n",
        "  print(M%10,end='')"
      ]
    },
    {
      "cell_type": "markdown",
      "id": "604e8632",
      "metadata": {
        "id": "604e8632"
      },
      "source": [
        "## Task 2\n",
        "Test your program with 30241 as the value of `M`.\n",
        "\n",
        "<div style=\"text-align: right\">[1]</div>"
      ]
    },
    {
      "cell_type": "code",
      "execution_count": 7,
      "id": "50d9fe1d",
      "metadata": {
        "colab": {
          "base_uri": "https://localhost:8080/"
        },
        "id": "50d9fe1d",
        "outputId": "469da2f6-a03d-4766-b1ea-6f0d2c1c4705"
      },
      "outputs": [
        {
          "output_type": "stream",
          "name": "stdout",
          "text": [
            "30241"
          ]
        }
      ],
      "source": [
        "## YOUR CODE HERE\n",
        "whatDoesItDo(30241)"
      ]
    },
    {
      "cell_type": "markdown",
      "id": "3f8052bc",
      "metadata": {
        "id": "3f8052bc"
      },
      "source": [
        "# Question 2 Text Machine\n",
        "We have two types of text machines:\n",
        "\n",
        "- A **`+`** machine (left) takes two pieces of text and joins them,\n",
        "- A `<` machine (right) takes one piece of text and reverses it.\n",
        "\n",
        "<center>\n",
        "\n",
        "<img src=\"https://github.com/beertino/MA321/blob/main/2025/Assignment/img/beb_2014_r2_y1112_textmachine_1.png?raw=1\" width=\"300\" align=\"center\"/>\n",
        "<img src=\"https://github.com/beertino/MA321/blob/main/2025/Assignment/img/beb_2014_r2_y1112_textmachine_2.png?raw=1\" width=\"150\" align=\"center\"/>\n",
        "\n",
        "</center>\n",
        "\n",
        "By linking two **`+`**  machines and one **`<`** machine to each other we get a more complex text machine.\n",
        "\n",
        "It needs three pieces of text (in the grey ellipses) and writes text in the white ellipses.\n",
        "\n",
        "<center>\n",
        "\n",
        "<img src=\"https://github.com/beertino/MA321/blob/main/2025/Assignment/img/beb_2014_r2_y1112_textmachine_3.png?raw=1\" width=\"600\" align=\"center\"/>\n",
        "\n",
        "</center>\n",
        "\n",
        "## Programming Task 1\n",
        "\n",
        "Write a function `tm_plus()`  that:\n",
        "- takes in two strings `left` and `right`,\n",
        "- returns a string which is a concatenation of the strings `left`  and `right`.\n",
        "<div style=\"text-align: right\">[1]</div>"
      ]
    },
    {
      "cell_type": "code",
      "execution_count": 8,
      "id": "971ad8c3",
      "metadata": {
        "id": "971ad8c3"
      },
      "outputs": [],
      "source": [
        "## YOUR CODE HERE\n",
        "def tm_plus(left,right):\n",
        " return left + right"
      ]
    },
    {
      "cell_type": "markdown",
      "id": "b3b63b0f",
      "metadata": {
        "id": "b3b63b0f"
      },
      "source": [
        "## Task 2\n",
        "\n",
        "Write a function `tm_leq()` that:\n",
        "\n",
        "- takes in a string `s` ,\n",
        "- returns a string which is the reverse of string `s`.\n",
        "<div style=\"text-align: right\">[2]</div>"
      ]
    },
    {
      "cell_type": "code",
      "execution_count": 9,
      "id": "4c0b94ec",
      "metadata": {
        "id": "4c0b94ec"
      },
      "outputs": [],
      "source": [
        "## YOUR CODE HERE\n",
        "def tm_leq(s):\n",
        " return s[::-1]"
      ]
    },
    {
      "cell_type": "markdown",
      "id": "b0ad14ff",
      "metadata": {
        "id": "b0ad14ff"
      },
      "source": [
        "## Task 3\n",
        "Write a program to determine which of the following three text pieces\n",
        "\n",
        "- `AMR OFNI TION`\n",
        "- `INF ORMA TION`\n",
        "- `AMR OFNI NOIT`\n",
        "- `FNI AMRO NOIT`\n",
        "\n",
        "need to put in the text machine described above in order to get the text `INFORMATION` in the lowest ellipse.\n",
        "\n",
        "Your program needs to include:\n",
        "\n",
        "- the use of `tm_plus()` and `tm_leq()` ,\n",
        "- at least one loop construct.\n",
        "<div style=\"text-align: right\">[4]</div>"
      ]
    },
    {
      "cell_type": "code",
      "execution_count": 13,
      "id": "58894e9b",
      "metadata": {
        "id": "58894e9b"
      },
      "outputs": [],
      "source": [
        "## YOUR CODE HERE\n",
        "def tm(a,b,c):\n",
        " return tm_plus(\n",
        "  tm_leq(tm_plus(a,b)), c\n",
        " )"
      ]
    },
    {
      "cell_type": "code",
      "source": [
        "L = ['AMR OFNI TION',\n",
        "'INF ORMA TION',\n",
        "'AMR OFNI NOIT',\n",
        "'FNI AMRO NOIT'\n",
        "]\n",
        "\n",
        "for s in L:\n",
        "  if tm(*s.split()) == 'INFORMATION':\n",
        "    print(s)"
      ],
      "metadata": {
        "id": "OZEdAHCGrkaD",
        "outputId": "5e0eeb61-0a95-40e6-8394-4f399dfa667e",
        "colab": {
          "base_uri": "https://localhost:8080/"
        }
      },
      "id": "OZEdAHCGrkaD",
      "execution_count": 23,
      "outputs": [
        {
          "output_type": "stream",
          "name": "stdout",
          "text": [
            "AMR OFNI TION\n"
          ]
        }
      ]
    },
    {
      "cell_type": "markdown",
      "id": "37552c42",
      "metadata": {
        "id": "37552c42"
      },
      "source": [
        "# Question 3 Box Jump\n",
        "There are 8 boxes on a shelf. The positions of the boxes are labelled from 1 to 8.\n",
        "\n",
        "Each box contains an instruction for how a game piece should move.\n",
        "\n",
        "An example of each instruction type is given below:\n",
        "\n",
        "1. Movement to the Left\n",
        "    \n",
        "    e.g. 2L means move two boxes to the left.\n",
        "    \n",
        "    <center>\n",
        "\n",
        "    <img src=\"https://github.com/beertino/MA321/blob/main/2025/Assignment/img/beb_boxjump_1.png?raw=1\" width=\"600\" align=\"center\"/>\n",
        "\n",
        "    </center>\n",
        "    \n",
        "2. Movement to the Right\n",
        "    \n",
        "    e.g. 3R means move three boxes to the right.\n",
        "    \n",
        "    <center>\n",
        "\n",
        "    <img src=\"https://github.com/beertino/MA321/blob/main/2025/Assignment/img/beb_boxjump_2.png?raw=1\" width=\"600\" align=\"center\"/>\n",
        "\n",
        "    </center>\n",
        "    \n",
        "3. Do not move\n",
        "    \n",
        "    If the rule says \"0\", do not move from this box at all.\n",
        "    \n",
        "\n",
        "Consider these instructions:\n",
        "\n",
        "<center>\n",
        "\n",
        "<img src=\"https://github.com/beertino/MA321/blob/main/2025/Assignment/img/beb_boxjump_3.png?raw=1\" width=\"600\" align=\"center\"/>\n",
        "\n",
        "</center>\n",
        "\n",
        "## Task 1\n",
        "Represent each of the instructions in the question above with an appropriate data type.\n",
        "<div style=\"text-align: right\">[1]</div>"
      ]
    },
    {
      "cell_type": "code",
      "execution_count": null,
      "id": "658e535a",
      "metadata": {
        "id": "658e535a"
      },
      "outputs": [],
      "source": [
        "## YOUR CODE HERE"
      ]
    },
    {
      "cell_type": "markdown",
      "id": "fdb90a9a",
      "metadata": {
        "id": "fdb90a9a"
      },
      "source": [
        "## Task 2\n",
        "Write a function `box_jump()` that:\n",
        "- takes in a collections of box numbers with instructions `instructions_collection`,\n",
        "- returns the box number to start on such that, by following the rules, all the boxes would be touched.\n",
        "<div style=\"text-align: right\">[5]</div>"
      ]
    },
    {
      "cell_type": "code",
      "execution_count": null,
      "id": "700351f3",
      "metadata": {
        "id": "700351f3"
      },
      "outputs": [],
      "source": [
        "## YOUR CODE HERE"
      ]
    },
    {
      "cell_type": "markdown",
      "id": "1c66d1e5",
      "metadata": {
        "id": "1c66d1e5"
      },
      "source": [
        "## Task 3\n",
        "Test your function from Task 2 on the instructions given in Task 1.\n",
        "<div style=\"text-align: right\">[1]</div>"
      ]
    },
    {
      "cell_type": "code",
      "execution_count": null,
      "id": "d683aef8",
      "metadata": {
        "id": "d683aef8"
      },
      "outputs": [],
      "source": [
        "## YOUR CODE HERE"
      ]
    },
    {
      "cell_type": "markdown",
      "id": "53bc98a8",
      "metadata": {
        "id": "53bc98a8"
      },
      "source": [
        "## Question 4 Find The Units Digit\n",
        "Let $n$ be an integer. The **product value** of $n$ is defined to be the product of all digits of $n$ where the $0$ digits in $n$ is replaced with $1$. For example, the product values of\n",
        "- $50$, $500$ are both $5$,\n",
        "- $320$, $16$ are both $6$.\n",
        "\n",
        "## Task 1\n",
        "Write a function `product_value` that:\n",
        "- takes in an integer `n` as a parameter\n",
        "- returns the product value of `n`.\n",
        "<div style=\"text-align: right\">[4]</div>"
      ]
    },
    {
      "cell_type": "code",
      "execution_count": null,
      "id": "525ea4af",
      "metadata": {
        "id": "525ea4af"
      },
      "outputs": [],
      "source": [
        "## YOUR CODE HERE"
      ]
    },
    {
      "cell_type": "markdown",
      "id": "eeb5dcab",
      "metadata": {
        "id": "eeb5dcab"
      },
      "source": [
        "## Task 2\n",
        "Test your function with `50, 500, 320, 16` as values of `n`.\n",
        "<div style=\"text-align: right\">[1]</div>"
      ]
    },
    {
      "cell_type": "code",
      "execution_count": null,
      "id": "e1900adb",
      "metadata": {
        "id": "e1900adb"
      },
      "outputs": [],
      "source": [
        "## YOUR CODE HERE"
      ]
    },
    {
      "cell_type": "markdown",
      "id": "99f1b369",
      "metadata": {
        "id": "99f1b369"
      },
      "source": [
        "## Task 3\n",
        "Let $S$ denotes the sum of product values of integers from $0$ to $10^{100}-1$ inclusive.\n",
        "\n",
        "Find the units digits of $S$.\n",
        "<div style=\"text-align: right\">[4]</div>\n",
        "\n",
        "Challenge: solve this in 10 minutes without running a code and on your own."
      ]
    },
    {
      "cell_type": "code",
      "execution_count": null,
      "id": "ffb79b10",
      "metadata": {
        "id": "ffb79b10"
      },
      "outputs": [],
      "source": [
        "## YOUR CODE HERE"
      ]
    }
  ],
  "metadata": {
    "language_info": {
      "name": "python"
    },
    "colab": {
      "provenance": [],
      "include_colab_link": true
    },
    "kernelspec": {
      "name": "python3",
      "display_name": "Python 3"
    }
  },
  "nbformat": 4,
  "nbformat_minor": 5
}