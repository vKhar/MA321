{
  "cells": [
    {
      "cell_type": "markdown",
      "metadata": {
        "colab_type": "text",
        "id": "view-in-github"
      },
      "source": [
        "<a href=\"https://colab.research.google.com/github/vKhar/MA321/blob/T3W2/2025/Assignment/Assignment%2014.ipynb\" target=\"_parent\"><img src=\"https://colab.research.google.com/assets/colab-badge.svg\" alt=\"Open In Colab\"/></a>"
      ]
    },
    {
      "cell_type": "markdown",
      "id": "d1324420",
      "metadata": {
        "id": "d1324420"
      },
      "source": [
        "## Question 1 What Does It Do\n",
        "Leo and Anjay are playing around with block coding. They have figured out through trial and error that `div` takes the result of a division and rounds it down to a whole number, and that `mod` takes the remainder.\n",
        "\n",
        "For example:\n",
        "\n",
        "```text\n",
        "90 div 7 is 12\n",
        "90 mod 7 is 1.\n",
        "```\n",
        "\n",
        "Leo has given Anjay the following function called `WhatDoesItDo`, which takes an integer `M` as input. The function first checks the size of `M` before deciding what part of the program to follow. **The function continues until it reaches the end of the instructions.**\n",
        "\n",
        "<center>\n",
        "\n",
        "<img src=\"https://github.com/beertino/MA321/blob/main/2025/Assignment/img/beb_2023_r2_y1112_whatdoesitdo.png?raw=1\" width=\"600\" align=\"center\"/>\n",
        "\n",
        "</center>\n",
        "\n",
        "## Task 1\n",
        "Write a function `whatDoesItDo` that:\n",
        "- takes in an integer `M` as parameter,\n",
        "- implement the logic presented in the block code above.\n",
        "\n",
        "Note that `write` in the block code is the same as `print()`\n",
        "\n",
        "<div style=\"text-align: right\">[2]</div>"
      ]
    },
    {
      "cell_type": "code",
      "execution_count": null,
      "id": "74a2df2e",
      "metadata": {
        "id": "74a2df2e"
      },
      "outputs": [],
      "source": [
        "## YOUR CODE HERE\n",
        "def whatDoesItDo(M):\n",
        " if M < 10:\n",
        "  print(M,end='')\n",
        " else:\n",
        "  whatDoesItDo(M//10)\n",
        "  print(M%10,end='')"
      ]
    },
    {
      "cell_type": "markdown",
      "id": "604e8632",
      "metadata": {
        "id": "604e8632"
      },
      "source": [
        "## Task 2\n",
        "Test your program with 30241 as the value of `M`.\n",
        "\n",
        "<div style=\"text-align: right\">[1]</div>"
      ]
    },
    {
      "cell_type": "code",
      "execution_count": null,
      "id": "50d9fe1d",
      "metadata": {
        "id": "50d9fe1d"
      },
      "outputs": [],
      "source": [
        "## YOUR CODE HERE\n",
        "whatDoesItDo(30241)"
      ]
    },
    {
      "cell_type": "markdown",
      "id": "3f8052bc",
      "metadata": {
        "id": "3f8052bc"
      },
      "source": [
        "# Question 2 Text Machine\n",
        "We have two types of text machines:\n",
        "\n",
        "- A **`+`** machine (left) takes two pieces of text and joins them,\n",
        "- A `<` machine (right) takes one piece of text and reverses it.\n",
        "\n",
        "<center>\n",
        "\n",
        "<img src=\"https://github.com/beertino/MA321/blob/main/2025/Assignment/img/beb_2014_r2_y1112_textmachine_1.png?raw=1\" width=\"300\" align=\"center\"/>\n",
        "<img src=\"https://github.com/beertino/MA321/blob/main/2025/Assignment/img/beb_2014_r2_y1112_textmachine_2.png?raw=1\" width=\"150\" align=\"center\"/>\n",
        "\n",
        "</center>\n",
        "\n",
        "By linking two **`+`**  machines and one **`<`** machine to each other we get a more complex text machine.\n",
        "\n",
        "It needs three pieces of text (in the grey ellipses) and writes text in the white ellipses.\n",
        "\n",
        "<center>\n",
        "\n",
        "<img src=\"https://github.com/beertino/MA321/blob/main/2025/Assignment/img/beb_2014_r2_y1112_textmachine_3.png?raw=1\" width=\"600\" align=\"center\"/>\n",
        "\n",
        "</center>\n",
        "\n",
        "## Programming Task 1\n",
        "\n",
        "Write a function `tm_plus()`  that:\n",
        "- takes in two strings `left` and `right`,\n",
        "- returns a string which is a concatenation of the strings `left`  and `right`.\n",
        "<div style=\"text-align: right\">[1]</div>"
      ]
    },
    {
      "cell_type": "code",
      "execution_count": null,
      "id": "971ad8c3",
      "metadata": {
        "id": "971ad8c3"
      },
      "outputs": [],
      "source": [
        "## YOUR CODE HERE\n",
        "def tm_plus(left,right):\n",
        " return left + right"
      ]
    },
    {
      "cell_type": "markdown",
      "id": "b3b63b0f",
      "metadata": {
        "id": "b3b63b0f"
      },
      "source": [
        "## Task 2\n",
        "\n",
        "Write a function `tm_leq()` that:\n",
        "\n",
        "- takes in a string `s` ,\n",
        "- returns a string which is the reverse of string `s`.\n",
        "<div style=\"text-align: right\">[2]</div>"
      ]
    },
    {
      "cell_type": "code",
      "execution_count": null,
      "id": "4c0b94ec",
      "metadata": {
        "id": "4c0b94ec"
      },
      "outputs": [],
      "source": [
        "## YOUR CODE HERE\n",
        "def tm_leq(s):\n",
        " return s[::-1]"
      ]
    },
    {
      "cell_type": "markdown",
      "id": "b0ad14ff",
      "metadata": {
        "id": "b0ad14ff"
      },
      "source": [
        "## Task 3\n",
        "Write a program to determine which of the following three text pieces\n",
        "\n",
        "- `AMR OFNI TION`\n",
        "- `INF ORMA TION`\n",
        "- `AMR OFNI NOIT`\n",
        "- `FNI AMRO NOIT`\n",
        "\n",
        "need to put in the text machine described above in order to get the text `INFORMATION` in the lowest ellipse.\n",
        "\n",
        "Your program needs to include:\n",
        "\n",
        "- the use of `tm_plus()` and `tm_leq()` ,\n",
        "- at least one loop construct.\n",
        "<div style=\"text-align: right\">[4]</div>"
      ]
    },
    {
      "cell_type": "code",
      "execution_count": null,
      "id": "58894e9b",
      "metadata": {
        "id": "58894e9b"
      },
      "outputs": [],
      "source": [
        "## YOUR CODE HERE\n",
        "def tm(a,b,c):\n",
        " return tm_plus(\n",
        "  tm_leq(tm_plus(a,b)), c\n",
        " )"
      ]
    },
    {
      "cell_type": "code",
      "execution_count": null,
      "id": "OZEdAHCGrkaD",
      "metadata": {
        "id": "OZEdAHCGrkaD"
      },
      "outputs": [],
      "source": [
        "L = ['AMR OFNI TION',\n",
        "'INF ORMA TION',\n",
        "'AMR OFNI NOIT',\n",
        "'FNI AMRO NOIT'\n",
        "]\n",
        "\n",
        "for s in L:\n",
        "  if tm(*s.split()) == 'INFORMATION':\n",
        "    print(s)"
      ]
    },
    {
      "cell_type": "markdown",
      "id": "37552c42",
      "metadata": {
        "id": "37552c42"
      },
      "source": [
        "# Question 3 Box Jump\n",
        "There are 8 boxes on a shelf. The positions of the boxes are labelled from 1 to 8.\n",
        "\n",
        "Each box contains an instruction for how a game piece should move.\n",
        "\n",
        "An example of each instruction type is given below:\n",
        "\n",
        "1. Movement to the Left\n",
        "    \n",
        "    e.g. 2L means move two boxes to the left.\n",
        "    \n",
        "    <center>\n",
        "\n",
        "    <img src=\"https://github.com/beertino/MA321/blob/main/2025/Assignment/img/beb_boxjump_1.png?raw=1\" width=\"600\" align=\"center\"/>\n",
        "\n",
        "    </center>\n",
        "    \n",
        "2. Movement to the Right\n",
        "    \n",
        "    e.g. 3R means move three boxes to the right.\n",
        "    \n",
        "    <center>\n",
        "\n",
        "    <img src=\"https://github.com/beertino/MA321/blob/main/2025/Assignment/img/beb_boxjump_2.png?raw=1\" width=\"600\" align=\"center\"/>\n",
        "\n",
        "    </center>\n",
        "    \n",
        "3. Do not move\n",
        "    \n",
        "    If the rule says \"0\", do not move from this box at all.\n",
        "    \n",
        "\n",
        "Consider these instructions:\n",
        "\n",
        "<center>\n",
        "\n",
        "<img src=\"https://github.com/beertino/MA321/blob/main/2025/Assignment/img/beb_boxjump_3.png?raw=1\" width=\"600\" align=\"center\"/>\n",
        "\n",
        "</center>\n",
        "\n",
        "## Task 1\n",
        "Represent each of the instructions in the question above with an appropriate data type.\n",
        "<div style=\"text-align: right\">[1]</div>"
      ]
    },
    {
      "cell_type": "code",
      "execution_count": null,
      "id": "658e535a",
      "metadata": {
        "id": "658e535a"
      },
      "outputs": [],
      "source": [
        "## YOUR CODE HERE"
      ]
    },
    {
      "cell_type": "markdown",
      "id": "fdb90a9a",
      "metadata": {
        "id": "fdb90a9a"
      },
      "source": [
        "## Task 2\n",
        "Write a function `box_jump()` that:\n",
        "- takes in a collections of box numbers with instructions `instructions_collection`,\n",
        "- returns the box number to start on such that, by following the rules, all the boxes would be touched.\n",
        "<div style=\"text-align: right\">[5]</div>"
      ]
    },
    {
      "cell_type": "code",
      "execution_count": null,
      "id": "700351f3",
      "metadata": {
        "id": "700351f3"
      },
      "outputs": [],
      "source": [
        "## YOUR CODE HERE\n",
        "instructions = [1,3,-2,0,3,1,-3,-2]\n",
        "def box_jump(instructions):\n",
        "    for start in range(len(instructions)):\n",
        "        count = 0\n",
        "        visits = []\n",
        "        cur = start\n",
        "        while count < len(instructions):\n",
        "            count+=1\n",
        "            if cur not in visits:\n",
        "                visits.append(cur)\n",
        "            steps = instructions[cur]\n",
        "            if steps == 0:\n",
        "                break\n",
        "            cur = cur + steps\n",
        "        if len(visits) == len(instructions):\n",
        "            print(f\"start at {start}:{visits}\")\n",
        "            break\n",
        "\n"
      ]
    },
    {
      "cell_type": "markdown",
      "id": "1c66d1e5",
      "metadata": {
        "id": "1c66d1e5"
      },
      "source": [
        "## Task 3\n",
        "Test your function from Task 2 on the instructions given in Task 1.\n",
        "<div style=\"text-align: right\">[1]</div>"
      ]
    },
    {
      "cell_type": "code",
      "execution_count": null,
      "id": "d683aef8",
      "metadata": {
        "id": "d683aef8"
      },
      "outputs": [],
      "source": [
        "## YOUR CODE HERE\n",
        "box_jump(instructions)"
      ]
    },
    {
      "cell_type": "markdown",
      "id": "53bc98a8",
      "metadata": {
        "id": "53bc98a8"
      },
      "source": [
        "## Question 4 Find The Units Digit\n",
        "Let $n$ be an integer. The **product value** of $n$ is defined to be the product of all digits of $n$ where the $0$ digits in $n$ is replaced with $1$. For example, the product values of\n",
        "- $50$, $500$ are both $5$,\n",
        "- $320$, $16$ are both $6$.\n",
        "\n",
        "## Task 1\n",
        "Write a function `product_value` that:\n",
        "- takes in an integer `n` as a parameter\n",
        "- returns the product value of `n`.\n",
        "<div style=\"text-align: right\">[4]</div>"
      ]
    },
    {
      "cell_type": "code",
      "execution_count": null,
      "id": "525ea4af",
      "metadata": {
        "id": "525ea4af"
      },
      "outputs": [],
      "source": [
        "## YOUR CODE HERE\n",
        "def product_value(n):\n",
        "    product = 1\n",
        "    for digit in str(n).replace(\"0\",\"1\"):\n",
        "        product = product * int(digit)\n",
        "    return product"
      ]
    },
    {
      "cell_type": "code",
      "execution_count": 92,
      "id": "7f8ff832",
      "metadata": {},
      "outputs": [],
      "source": [
        "# Value of a digit\n",
        "def V(d):\n",
        "    if d == 0:\n",
        "        return 1\n",
        "    else:\n",
        "        return d\n",
        "    \n",
        "def product_value(n):\n",
        "    product = 1\n",
        "    for d in str(n):\n",
        "        product *= V(int(d))\n",
        "    return product\n"
      ]
    },
    {
      "cell_type": "markdown",
      "id": "eeb5dcab",
      "metadata": {
        "id": "eeb5dcab"
      },
      "source": [
        "## Task 2\n",
        "Test your function with `50, 500, 320, 16` as values of `n`.\n",
        "<div style=\"text-align: right\">[1]</div>"
      ]
    },
    {
      "cell_type": "code",
      "execution_count": 93,
      "id": "e1900adb",
      "metadata": {
        "id": "e1900adb"
      },
      "outputs": [
        {
          "data": {
            "text/plain": [
              "(5, 5, 6, 6)"
            ]
          },
          "execution_count": 93,
          "metadata": {},
          "output_type": "execute_result"
        }
      ],
      "source": [
        "## YOUR CODE HERE\n",
        "product_value(50),product_value(500),product_value(320),product_value(6)"
      ]
    },
    {
      "cell_type": "markdown",
      "id": "99f1b369",
      "metadata": {
        "id": "99f1b369"
      },
      "source": [
        "## Task 3\n",
        "Let $S$ denotes the sum of product values of integers from $0$ to $10^{100}-1$ inclusive.\n",
        "\n",
        "Find the units digits of $S$.\n",
        "<div style=\"text-align: right\">[4]</div>\n",
        "\n",
        "Challenge: solve this in 10 minutes without running a code and on your own."
      ]
    },
    {
      "cell_type": "markdown",
      "id": "8cb3b0ed",
      "metadata": {},
      "source": [
        "\n",
        "$\\begin{aligned}\n",
        "&\\sum_{i=0}^{10^{100}-1} \\text{product\\_value(i)}\\\\\n",
        "& \\text{product\\_value(i)}= d_{10} \\cdot d_9 \\cdots d_1\n",
        "\\end{aligned}$\n",
        "\n",
        "The number $10^{100}-1$ has 100 digits\n",
        "\n"
      ]
    },
    {
      "cell_type": "code",
      "execution_count": null,
      "id": "21c60fef",
      "metadata": {},
      "outputs": [],
      "source": [
        "## number of digits \n",
        "def num_digits(i):\n",
        "    if i == 0:\n",
        "        return 1\n",
        "    count = 0\n",
        "    while i > 0:\n",
        "        count+=1\n",
        "        i = i//10\n",
        "    return count\n",
        "\n",
        "num_digits(10**100-1)"
      ]
    },
    {
      "cell_type": "code",
      "execution_count": null,
      "id": "ffb79b10",
      "metadata": {
        "colab": {
          "base_uri": "https://localhost:8080/"
        },
        "id": "ffb79b10",
        "outputId": "90a7ade3-4b8d-4015-e21b-f75c7b015417"
      },
      "outputs": [],
      "source": [
        "## Brute Force\n",
        "S=0\n",
        "for i in range(10**100):\n",
        "    S+=product_value(i)\n",
        "S"
      ]
    },
    {
      "cell_type": "markdown",
      "id": "2852900f",
      "metadata": {},
      "source": [
        "### Recursive solution:\n",
        "\n",
        "$n$ is the number of digits in a number\n",
        "\n",
        "| Sum of product_value of a n digits number| factoring out leftmost digit |\n",
        "|-| -|\n",
        "|$0000..0 + 0000..1 + ...0999..9+\\\\1000..0 + 1000..1 + ...1999..9+\\\\:\\\\9000..0 + 9000..1 + ...9999..9$|$0(000..0 + 00..1 + ..999)+\\\\1(000..0 + 00..1 + ..999) +\\\\:\\\\9(000..0 + 00..1 + ..999)$\n",
        "\n",
        "we can observe that :\n",
        "\n",
        "1.  $ sum\\_product\\_value(n) =  \\sum_{d=0}^9 d \\cdot sum\\_product\\_value(n-1) $\n",
        "\n",
        "2.  When $n=1$,  the solution is $\\sum_{d=0}^9$"
      ]
    },
    {
      "cell_type": "code",
      "execution_count": null,
      "id": "612763cb",
      "metadata": {},
      "outputs": [],
      "source": [
        "## Recursive approach\n",
        "## We solve for numbers with 1-digit\n",
        "## solve for n  digits by using the result solved for n-1 digits\n",
        "\n",
        "# Value of a digit\n",
        "def V(d):\n",
        "    if d == 0:\n",
        "        return 1\n",
        "    else:\n",
        "        return d\n",
        "    \n",
        "def sum_product_values(n): ## n is the number of digits in the number\n",
        "    if n == 1:\n",
        "        return sum( V(d) for d in range(10) ) # 1 + 1 + 2 +..9\n",
        "    else:\n",
        "        ## sum of product values of n digits \n",
        "        ##   <  n  >   <  n  >      <  n  >      < n-1>   <n-1>   <n-1>\n",
        "        ## = 0000..0 + 0000..1 + ...0999..9 | 0(000..0 + 00..1 + ..999)\n",
        "        ##  +1000..0 + 1000..1 + ...1999..9 | 1(000..0 + 00..1 + ..999)\n",
        "        ##  :\n",
        "        ##  +9000..0 + 9000..1 + ...9999..9 | 9(000..0 + 00..1 + ..999)\n",
        "        ## (0+1+2..+9).sum_product_values (n-1 digits)\n",
        "\n",
        "        sum_n_1 = sum_product_values(n-1)\n",
        "\n",
        "        # _sum = 0\n",
        "        # for d in range(10):\n",
        "        #     _sum += V(d)*sum_n_1\n",
        "\n",
        "        return sum( V(d)* sum_n_1 for d in range(10) ) # this looks similar to [1] above\n",
        "\n",
        "\n"
      ]
    }
  ],
  "metadata": {
    "colab": {
      "include_colab_link": true,
      "provenance": []
    },
    "kernelspec": {
      "display_name": "python12",
      "language": "python",
      "name": "python3"
    },
    "language_info": {
      "codemirror_mode": {
        "name": "ipython",
        "version": 3
      },
      "file_extension": ".py",
      "mimetype": "text/x-python",
      "name": "python",
      "nbconvert_exporter": "python",
      "pygments_lexer": "ipython3",
      "version": "3.12.0"
    }
  },
  "nbformat": 4,
  "nbformat_minor": 5
}
