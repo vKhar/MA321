{
  "cells": [
    {
      "cell_type": "markdown",
      "metadata": {
        "id": "view-in-github",
        "colab_type": "text"
      },
      "source": [
        "<a href=\"https://colab.research.google.com/github/vKhar/MA321/blob/main/2025/Assignment/Assignment%2012.ipynb\" target=\"_parent\"><img src=\"https://colab.research.google.com/assets/colab-badge.svg\" alt=\"Open In Colab\"/></a>"
      ]
    },
    {
      "cell_type": "markdown",
      "id": "3c652221",
      "metadata": {
        "id": "3c652221"
      },
      "source": [
        "# Assignment 12"
      ]
    },
    {
      "cell_type": "markdown",
      "id": "4f8d9f2b",
      "metadata": {
        "id": "4f8d9f2b"
      },
      "source": [
        "#### Question 12.1\n",
        "\n",
        "Write a function `even_seq` that accepts an integer as an argument  and outputs all the positive even integers that are less than the integer, in order, with each integer seperated by a comma.\n",
        "Example:\n",
        "```\n",
        "even_seq(8) should generate\n",
        "2,4,6\n",
        "even_seq(1) should not have any output\n"
      ]
    },
    {
      "cell_type": "code",
      "execution_count": null,
      "id": "9766e883",
      "metadata": {
        "id": "9766e883"
      },
      "outputs": [],
      "source": [
        "## Code here\n"
      ]
    },
    {
      "cell_type": "markdown",
      "id": "47e4e269",
      "metadata": {
        "id": "47e4e269"
      },
      "source": [
        "#### Question 12.2\n",
        "Write a function `spell` that accepts a string and outputs a pattern such that the string appears to spell itself out line by line.\n",
        "\n",
        "\n",
        "For example `spell(\"Hello\")`, the output should be:\n",
        "```\n",
        "H\n",
        "He\n",
        "Hel\n",
        "Hell\n",
        "Hello\n",
        "```"
      ]
    },
    {
      "cell_type": "code",
      "execution_count": null,
      "id": "fc04272b",
      "metadata": {
        "id": "fc04272b"
      },
      "outputs": [],
      "source": [
        "## Code here"
      ]
    },
    {
      "cell_type": "markdown",
      "id": "7ac00cda",
      "metadata": {
        "id": "7ac00cda"
      },
      "source": [
        "#### Question 12.3\n",
        "Write a function `repeats(a,b)` that accepts two integers, a and b, and returns a list (NOT print) that contains b copies of a, followed by a copies of b, followed by the number -1. You may assume that a and b are never negative.\n",
        "\n",
        "For example,\n",
        "\n",
        "`repeats(2,7)`, the ouput will be:\n",
        "\n",
        "`[2, 2, 2, 2, 2, 2, 2, 7, 7, -1]`\n",
        "\n",
        "`repeats(0,0)`, the output will be:\n",
        "\n",
        "`[-1]`"
      ]
    },
    {
      "cell_type": "code",
      "execution_count": null,
      "id": "4b3d059d",
      "metadata": {
        "id": "4b3d059d"
      },
      "outputs": [],
      "source": [
        "## Code here"
      ]
    },
    {
      "cell_type": "markdown",
      "id": "5218d50d",
      "metadata": {
        "id": "5218d50d"
      },
      "source": [
        "#### Question 12.4a\n",
        "In Mathematics, you have learnt how to find the highest common factor of two numbers. Write a function `hcf(a,b)` that computes the highest common factor of two positive numbers a, b. Your code should make use of a `for loop` to implement the solution."
      ]
    },
    {
      "cell_type": "code",
      "execution_count": null,
      "id": "7d20d562",
      "metadata": {
        "id": "7d20d562"
      },
      "outputs": [],
      "source": [
        "## Code here\n"
      ]
    },
    {
      "cell_type": "markdown",
      "id": "dad22460",
      "metadata": {
        "id": "dad22460"
      },
      "source": [
        "#### Question 12.4b\n",
        "Write Python code to test your `hcf`.\n",
        "The values for a and b are stored as a list in the  list `test_cases`as shown below.\n",
        "\n",
        "The expected output for your code should be as follows:\n",
        "```\n",
        "The hcf of 48 and 18 is 6\n",
        "The hcf of 56 and 98 is 14\n",
        "The hcf of 12 and 15 is 3\n",
        "The hcf of 100 and 75 is 25\n",
        "The hcf of 17 and 13 is 1\n",
        "The hcf of 0 and 5 is 5\n",
        "The hcf of 24 and 16 is 8\n",
        "```\n"
      ]
    },
    {
      "cell_type": "code",
      "execution_count": null,
      "id": "18c49c35",
      "metadata": {
        "id": "18c49c35"
      },
      "outputs": [],
      "source": [
        "test_cases = [\n",
        "        [48, 18],\n",
        "        [56, 98],\n",
        "        [12, 15],\n",
        "        [100, 75],\n",
        "        [17, 13],\n",
        "        [0, 5],\n",
        "        [24, 16]\n",
        "    ]\n",
        "\n",
        "## Code here"
      ]
    }
  ],
  "metadata": {
    "kernelspec": {
      "display_name": "python12",
      "language": "python",
      "name": "python3"
    },
    "language_info": {
      "codemirror_mode": {
        "name": "ipython",
        "version": 3
      },
      "file_extension": ".py",
      "mimetype": "text/x-python",
      "name": "python",
      "nbconvert_exporter": "python",
      "pygments_lexer": "ipython3",
      "version": "3.12.0"
    },
    "colab": {
      "provenance": [],
      "include_colab_link": true
    }
  },
  "nbformat": 4,
  "nbformat_minor": 5
}