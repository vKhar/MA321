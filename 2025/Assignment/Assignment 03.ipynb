{
 "cells": [
  {
   "cell_type": "markdown",
   "id": "ac8e46b4",
   "metadata": {},
   "source": [
    "# Assignment 03\n",
    "\n",
    "[![Open In Colab](https://colab.research.google.com/assets/colab-badge.svg)](https://colab.research.google.com/github/beertino/MA321/blob/main/2025/Assignment/Assignment%2003.ipynb)"
   ]
  },
  {
   "cell_type": "markdown",
   "metadata": {},
   "source": [
    "#### Question 3.1 Compound Interest\n",
    "\n",
    "Shane wants to place `p` dollars (principal) in a bank as a fixed deposit for `n` years.\n",
    "\n",
    "The bank offers an interest rate of `r`% per annum *compounded* yearly.\n",
    "\n",
    "Find the total amount that Shane can receive at the end of `n` years, correct to the nearest cent.\n",
    "\n",
    "You may assume the data types for `p`, `n` and `r` are `int`, `int` and `float` respectively.\n",
    "\n",
    "*Sample input:*\n",
    "```python\n",
    "Principal (in dollars): 10000\n",
    "Period (in years): 5\n",
    "\n",
    "Interest rate is r%, value of r: 2.5\n",
    "```\n",
    "\n",
    "*Sample output:*\n",
    "```python\n",
    "Total amount at the end of 5 years is 11314.08 dollars.\n",
    "```"
   ]
  },
  {
   "cell_type": "code",
   "execution_count": null,
   "metadata": {},
   "outputs": [],
   "source": [
    "# YOUR CODE HERE"
   ]
  },
  {
   "cell_type": "markdown",
   "metadata": {},
   "source": [
    "#### Question 3.2 Shoelace Method\n",
    "Write a program that:\n",
    "- Prompt the user to input 6 integer values `x1`, `y1`, `x2`, `y2`, `x3` and `y3`. \n",
    "- Calculate the area of the triangle with vertices (`x1`, `y1`), (`x2`, `y2`), and (`x3`, `y3`) \n",
    "- assign the area calculated to the variable `area_triangle`\n",
    "- print out the calculated area with the following format\n",
    "    ```text\n",
    "        Area of triangle is <area_triangle>\n",
    "    ```\n",
    "\n",
    "*Sample input:*\n",
    "```python\n",
    "x1 = 0\n",
    "y1 = 0\n",
    "x2 = 1\n",
    "y2 = 4\n",
    "x3 = 5\n",
    "y3 = 2\n",
    "```\n",
    "*Sample output:*\n",
    "```text\n",
    "Area of triangle is 9.0\n",
    "```"
   ]
  },
  {
   "cell_type": "code",
   "execution_count": null,
   "metadata": {},
   "outputs": [],
   "source": [
    "# Code here"
   ]
  },
  {
   "cell_type": "markdown",
   "metadata": {},
   "source": [
    "#### Question 3.3 Understand Rounding\n",
    "\n",
    "Find a `float` number `f` such that `int(f)`, `round(f)` and `f // 1` give different values."
   ]
  },
  {
   "cell_type": "code",
   "execution_count": null,
   "metadata": {},
   "outputs": [],
   "source": [
    "f = #find a value\n",
    "\n",
    "print(int(f))\n",
    "print(round(f))\n",
    "print(f // 1)"
   ]
  }
 ],
 "metadata": {
  "kernelspec": {
   "display_name": "Python 3",
   "language": "python",
   "name": "python3"
  },
  "language_info": {
   "codemirror_mode": {
    "name": "ipython",
    "version": 3
   },
   "file_extension": ".py",
   "mimetype": "text/x-python",
   "name": "python",
   "nbconvert_exporter": "python",
   "pygments_lexer": "ipython3",
   "version": "3.6.4"
  }
 },
 "nbformat": 4,
 "nbformat_minor": 5
}
