{
 "cells": [
  {
   "cell_type": "markdown",
   "id": "d061cff3",
   "metadata": {},
   "source": [
    "# Assignment 00\n",
    "\n",
    "[![Open In Colab](https://colab.research.google.com/assets/colab-badge.svg)](https://colab.research.google.com/github/beertino/MA321/blob/main/2025/Assignment/Assignment%2000.ipynb)  "
   ]
  },
  {
   "cell_type": "markdown",
   "id": "9f228448",
   "metadata": {},
   "source": [
    "#### Question 0.1 Sswapping values in variables\n",
    "\n",
    "In **Example 0.5**, we failed to swap the values stored in `teacher1` and `teacher2` with the following code:\n",
    "```python\n",
    "teacher1 = \"Mr Tan\"\n",
    "teacher2 = \"Mr Kwek\"\n",
    "\n",
    "teacher1 = teacher2\n",
    "teacher2 = teacher1\n",
    "\n",
    "print(teacher1)\n",
    "print(teacher2)\n",
    "```\n",
    "Modify the code to make it work!\n",
    "\n",
    "The expected output is\n",
    "```\n",
    "Mr Kwek\n",
    "Mr Tan\n",
    "```"
   ]
  },
  {
   "cell_type": "code",
   "execution_count": null,
   "id": "12d01006",
   "metadata": {},
   "outputs": [],
   "source": [
    "teacher1 = \"Mr Tan\"\n",
    "teacher2 = \"Mr Kwek\"\n",
    "\n",
    "# teacher1 = teacher2 <-- to be modified\n",
    "# teacher2 = teacher1 <-- to be modified\n",
    "\n",
    "print(teacher1)\n",
    "print(teacher2)"
   ]
  },
  {
   "cell_type": "markdown",
   "id": "8304cc52",
   "metadata": {},
   "source": [
    "#### Question 0.2 Variable Reference\n",
    "\n",
    "- (a) Watch the youtube video on Python Variables Reference Objects.[https://youtu.be/z_55F4zSjoA]\n",
    "- (b) Use `id()` to verify whether each pair of variables have the same address in the code cells below.\n",
    "\n",
    "The id is the object's memory address, and will be different for each time you run the program. (except for some object that has a constant unique id, like integers from -5 to 256)"
   ]
  },
  {
   "cell_type": "code",
   "execution_count": null,
   "id": "3749807a",
   "metadata": {},
   "outputs": [],
   "source": [
    "a1 = 2\n",
    "a2 = 2\n",
    "## verify whether a1 and a2 have the same address. print(id(a1)) will print the address of a1"
   ]
  },
  {
   "cell_type": "code",
   "execution_count": null,
   "id": "fcae4b8d",
   "metadata": {},
   "outputs": [],
   "source": [
    "b1 = 2022\n",
    "b2 = b1\n",
    "## verify whether b1 and b2 have the same address."
   ]
  },
  {
   "cell_type": "code",
   "execution_count": null,
   "id": "2c7484ce",
   "metadata": {},
   "outputs": [],
   "source": [
    "c1 = 'e'\n",
    "c2 = 'e'\n",
    "## verify whether c1 and c2 have the same address."
   ]
  },
  {
   "cell_type": "code",
   "execution_count": null,
   "id": "8b55d27c",
   "metadata": {},
   "outputs": [],
   "source": [
    "d1 = \"Mr Tan\"\n",
    "d2 = \"Mr Tan\"\n",
    "## verify whether d1 and d2 have the same address."
   ]
  },
  {
   "cell_type": "code",
   "execution_count": null,
   "id": "9b2522da",
   "metadata": {},
   "outputs": [],
   "source": [
    "e1 = 3.1416\n",
    "e2 = 3.1416\n",
    "## verify whether e1 and e2 have the same address."
   ]
  },
  {
   "cell_type": "markdown",
   "id": "35c5c374",
   "metadata": {},
   "source": [
    "#### Question 0.3 Using `help()`\n",
    "\n",
    "Use the code cell below to try out each of the following commands:\n",
    "```python\n",
    "help(\"symbols\")\n",
    "help(\"keywords\")\n",
    "help(\"int\")\n",
    "help()\n",
    "```"
   ]
  },
  {
   "cell_type": "code",
   "execution_count": null,
   "id": "c726baa5",
   "metadata": {},
   "outputs": [],
   "source": []
  }
 ],
 "metadata": {
  "kernelspec": {
   "display_name": "Python 3 (ipykernel)",
   "language": "python",
   "name": "python3"
  },
  "language_info": {
   "codemirror_mode": {
    "name": "ipython",
    "version": 3
   },
   "file_extension": ".py",
   "mimetype": "text/x-python",
   "name": "python",
   "nbconvert_exporter": "python",
   "pygments_lexer": "ipython3",
   "version": "3.6.4"
  }
 },
 "nbformat": 4,
 "nbformat_minor": 5
}
