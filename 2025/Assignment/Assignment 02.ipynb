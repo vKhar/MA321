{
 "cells": [
  {
   "cell_type": "markdown",
   "id": "8124ed45",
   "metadata": {},
   "source": [
    "# Assignment 02\n",
    "\n",
    "[![Open In Colab](https://colab.research.google.com/assets/colab-badge.svg)](https://colab.research.google.com/github/beertino/MA321/blob/main/2025/Assignment/Assignment%2002.ipynb)"
   ]
  },
  {
   "cell_type": "markdown",
   "id": "7986ecbe",
   "metadata": {},
   "source": [
    "#### Question 2.1 Input and Output\n",
    "\n",
    "Prompt the user to key in integers for the `length`, `breadth` and `height` of a cuboid, then find and print its `total_surface_area` and `volume`. You may work on the following code:\n",
    "\n",
    "```python\n",
    "# prompt the user to input\n",
    "\n",
    "# calculations\n",
    "total_surface_area = \n",
    "volume =\n",
    "\n",
    "# print the results\n",
    "```"
   ]
  },
  {
   "cell_type": "code",
   "execution_count": null,
   "id": "af74c2f4",
   "metadata": {},
   "outputs": [],
   "source": [
    "# Code here"
   ]
  },
  {
   "cell_type": "markdown",
   "id": "f6cf94b4",
   "metadata": {},
   "source": [
    "#### Question 2.2 Output Formatting\n",
    "\n",
    "Prompt the user to input the number of sides `n` between 3 and 10 inclusive, then print the information about this $n$-side polygon in the following format:\n",
    "\n",
    "*Sample input:*\n",
    "```\n",
    "Number of sides (between 3 and 10 inclusive): 7\n",
    "```\n",
    "*Sample output:*\n",
    "```\n",
    "A 7-side polygon is called a heptagon, the sum of its interior angles is 900 degrees.\n",
    "```\n",
    "\n",
    "You do not need to worry about how to retrieve the name of the polygon, the relevant code (using a `dictionary`) is provided in the cell below."
   ]
  },
  {
   "cell_type": "code",
   "execution_count": null,
   "id": "001ab11a",
   "metadata": {
    "scrolled": false
   },
   "outputs": [],
   "source": [
    "# Code here\n",
    "# Promopt the user to input n, the number of sides.\n",
    "\n",
    "# The following code gives the polygon name for an integer n \n",
    "\n",
    "all_polygon = {3: \"triangle\", 4: \"quadrilateral\", 5: \"pentagon\", 6: \"hexagon\",\n",
    "               7: \"heptagon\", 8: \"octagon\", 9: \"nonagon\", 10: \"decagon\"}\n",
    "\n",
    "polygon_name = all_polygon[n]\n",
    "\n",
    "# Calculation(s)\n",
    "\n",
    "# Output\n"
   ]
  }
 ],
 "metadata": {
  "kernelspec": {
   "display_name": "Python 3 (ipykernel)",
   "language": "python",
   "name": "python3"
  },
  "language_info": {
   "codemirror_mode": {
    "name": "ipython",
    "version": 3
   },
   "file_extension": ".py",
   "mimetype": "text/x-python",
   "name": "python",
   "nbconvert_exporter": "python",
   "pygments_lexer": "ipython3",
   "version": "3.10.2"
  }
 },
 "nbformat": 4,
 "nbformat_minor": 5
}
