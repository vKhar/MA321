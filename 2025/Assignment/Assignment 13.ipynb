{
  "cells": [
    {
      "cell_type": "markdown",
      "id": "c26bdbdc",
      "metadata": {
        "colab_type": "text",
        "id": "view-in-github"
      },
      "source": [
        "<a href=\"https://colab.research.google.com/github/vKhar/MA321/blob/T3W2/2025/Assignment/Assignment%2013.ipynb\" target=\"_parent\"><img src=\"https://colab.research.google.com/assets/colab-badge.svg\" alt=\"Open In Colab\"/></a>"
      ]
    },
    {
      "cell_type": "markdown",
      "id": "e4e2f77e",
      "metadata": {
        "id": "e4e2f77e"
      },
      "source": [
        "## LCM\n",
        "In Mathematics, the lowest common multiple (LCM) of two integers `a` and` b`  is the smallest  positive integer that is a multiple of `a` and `b`. Write a function `lcm(a,b)` that computes the LCM of two positive numbers a, b. Your code should make use of List and For Loop to implement the solution. You do not need to use prime factorisation or GCD/HCF."
      ]
    },
    {
      "cell_type": "code",
      "execution_count": null,
      "id": "498c1574",
      "metadata": {
        "id": "498c1574"
      },
      "outputs": [],
      "source": [
        "## LCM\n",
        "def lcm(a,b):\n",
        "    multiples_a=[i for i in range(a,(a*b)+1,a)]\n",
        "    multiples_b=[i for i in range(b,(a*b)+1,b)]\n",
        "    if len(multiples_a) < len(multiples_b):\n",
        "        smaller_list = multiples_a\n",
        "        larger_list = multiples_b\n",
        "    else:\n",
        "        smaller_list = multiples_b\n",
        "        larger_list = multiples_a\n",
        "\n",
        "    for multiple in smaller_list:\n",
        "        if multiple in larger_list:\n",
        "            return multiple\n",
        "\n",
        "## Using GCD/HCF\n",
        "def LCM(a,b):\n",
        "    def gcd(a,b):\n",
        "        if b == 0:\n",
        "            return a\n",
        "        return gcd(b, a%b)\n",
        "    return round(abs(a*b)/gcd(a,b))"
      ]
    },
    {
      "cell_type": "code",
      "execution_count": null,
      "id": "99b3f914",
      "metadata": {
        "id": "99b3f914"
      },
      "outputs": [],
      "source": [
        "## Using prime factorisation\n",
        "import math\n",
        "def is_prime(n):\n",
        "    factor = 2\n",
        "    while factor <= n**0.5:\n",
        "        if n % factor == 0:\n",
        "            return False\n",
        "        factor +=1\n",
        "    else:\n",
        "        return True\n",
        "\n",
        "def prime_factors(n):\n",
        "    return [ i for i in range(2,int(n**0.5)+1) if is_prime(i) and n%i == 0]\n",
        "\n",
        "def lcm(a, b):\n",
        "    PFs= {} # dictionary of prime factors,\n",
        "    for n in (a,b): # for each integer update the prime factors with the highest power\n",
        "        for prime in prime_factors(n):\n",
        "            power = 0\n",
        "            while True:\n",
        "                if n%(prime**(power+1)) == 0:\n",
        "                    power+=1\n",
        "                else:\n",
        "                    break\n",
        "            if prime not in PFs or PFs[prime] < power:\n",
        "                PFs[prime] = power\n",
        "\n",
        "    ret= 1\n",
        "    for prime in PFs:\n",
        "        ret*= prime ** (PFs[prime])\n",
        "    return ret\n"
      ]
    },
    {
      "cell_type": "markdown",
      "id": "09cc9e54",
      "metadata": {
        "id": "09cc9e54"
      },
      "source": [
        "## Null Cipher\n",
        "\n",
        "### Problem Background\n",
        "There are two primary methods to obscuring information you wish to keep hidden. Cryptography uses an algorithm or similar process to convert a message to another form, rendering it illegible. Steganography aims to simply hide a message so that a would-be eavesdropper doesn't realize a message actually exists in the first place. Steganography has taken a wide range of forms throughout history: messages written in invisible ink, patterns representing Morse Code knitted into sweaters, and messages shrunk to microscopic size and printed on transparent film have all been used throughout history. One of the simplest forms of steganography known as the \"null cipher\"\n",
        "\n",
        "### Problem Description\n",
        "The null cipher is effective because it appears to be a perfectly harmless message. The secret message - known as a ciphertext - is hidden within another message by adding in a large number of eavesdropper would see the message and not realize there was a second message hidden inside, but the intended recipient would know to remove certain words or characters to restore the original message.\n",
        "\n",
        "Lockheed Martin is working with the National Security Agency to test a slightly different form of null cipher. The NSA intends to embed a message within a string of random characters. Their hope is that an eavesdropper will suspect a hidden message, but will assume that the random nature of the reality, the message will simply be scattered throughout the text string. Any character that is part of the actual message will immediately follow an English vowel; that is, one of the letters a, e, i, o, or u.\n",
        "When those characters occur in the actual message, they will follow a different vowel; the character after them is not part of the message.\n",
        "For example, the string below can be read as \"helloworld\":\n",
        "\n",
        "fksa**h**nlgu**e**yi**l**fhna**l**fkjnhdssa**o**kjfhndsfi**w**a**o**u**r**hnfdjgba**l**fkjshe**d**fnsf\n",
        "\n",
        "### Task\n",
        "- write a Python function `null_cipher(random_text)` to extract and return the hidden message from the random text\n",
        "- You can use the following test cases:\n",
        "    - fksahnlgueyilfhnalfkjnhdssaokjfhndsfiwaourhnfdjgbalfkjshedfnsf\n",
        "    - mkjmnacioudhrieeqwthyiugueresjfgwatfhwghfnhgnffn\n",
        "    - elruoqywicwnjksakvfbsgyohuehnghiefhggadfgsfsfs"
      ]
    },
    {
      "cell_type": "code",
      "execution_count": null,
      "id": "d1ed3698",
      "metadata": {
        "id": "d1ed3698"
      },
      "outputs": [],
      "source": [
        "def null_cipher(random_text):\n",
        "    extracted =[]\n",
        "    skip = False\n",
        "    for i in range(len(random_text)):\n",
        "        if not skip and random_text[i].lower() in \"aeiou\":\n",
        "            if not random_text[i+1].isalpha():\n",
        "                skip = False\n",
        "                continue\n",
        "            extracted.append(random_text[i+1])\n",
        "            if random_text[i+1] in \"aeiou\":#  if char extracted is a vowel, it cannot be considered\n",
        "                skip = True\n",
        "                continue\n",
        "        skip = False\n",
        "\n",
        "    return \"\".join(extracted)\n"
      ]
    },
    {
      "cell_type": "code",
      "execution_count": null,
      "id": "a3b4d146",
      "metadata": {
        "id": "a3b4d146",
        "outputId": "95a419ea-ef80-4a98-90ea-0f9791d023fe"
      },
      "outputs": [
        {
          "name": "stdout",
          "output_type": "stream",
          "text": [
            "helloworld\n",
            "codequest\n",
            "lockheed\n"
          ]
        }
      ],
      "source": [
        "for random_text in (\"fksahnlgueyilfhnalfkjnhdssaokjfhndsfiwaourhnfdjgbalfkjshedfnsf\",\n",
        "                    \"mkjmnacioudhrieeqwthyiugueresjfgwatfhwghfnhgnffn\",\n",
        "                    \"elruoqywicwnjksakvfbsgyohuehnghiefhggadfgsfsfs\" ):\n",
        "    print(null_cipher(random_text))"
      ]
    },
    {
      "cell_type": "markdown",
      "id": "e10af341",
      "metadata": {
        "id": "e10af341"
      },
      "source": [
        "## Caesar cipher.\n",
        "\n",
        "The goal of this exercise is to write a cyclic cipher to encrypt messages. This type of cipher was used by Julius Caesar to communicate with his generals. It is very simple to generate but it can actually be easily broken and does not provide the security one would hope for.\n",
        "\n",
        "The key idea behind the Caesar cipher is to replace each letter by a letter some fixed number of positions down the alphabet. For example, if we want to create a cipher shifting by 3, you will get the following mapping:\n",
        "\n",
        "\n",
        "\n",
        "| Cipher with shift 3|| | | | | | | | | | | | | | | | | | | | | | | | | |\n",
        "|-         |-|-|-|-|-|-|-|-|-|-|-|-|-|-|-|-|-|-|-|-|-|-|-|-|-|-|\n",
        "|Plain:    |A|B|C|D|E|F|G|H|I|J|K|L|M|N|O|P|Q|R|S|T|U|V|W|X|Y|Z|\n",
        "|Cipher:   |D|E|F|G|H|I|J|K|L|M|N|O|P|Q|R|S|T|U|V|W|X|Y|Z|A|B|C|\n",
        "\n",
        "\n",
        "### Task 1\n",
        "Write a Python function `caesar_encypt(message, shift)` where\n",
        "- `message` is the clear text message and\n",
        "- `shift` is the number of position to shift\n",
        "- you can assume that the message only contain upper case letters\n",
        "\n",
        "\n",
        "### Task 2\n",
        "Write a Python function `caesar_decrypt(cipher_text, shift)` where\n",
        "- `cipher_text` is the encrypted message and\n",
        "- `shift` is the number of position to shift\n",
        "- you can assume that the message only contain upper case letters\n"
      ]
    },
    {
      "cell_type": "code",
      "execution_count": null,
      "id": "773ee407",
      "metadata": {
        "id": "773ee407"
      },
      "outputs": [],
      "source": [
        "import string\n",
        "def caesar_encrypt(message, shift):\n",
        "    encrypted_text = \"\"\n",
        "    letters = string.ascii_uppercase\n",
        "    for letter in message:\n",
        "        encrypted_text += letters[(letters.index(letter) + shift )%len(letters)]\n",
        "    return encrypted_text\n",
        "\n",
        "import string\n",
        "def caesar_decrypt(message, shift):\n",
        "    text = \"\"\n",
        "    letters = string.ascii_uppercase\n",
        "    for letter in message:\n",
        "        text += letters[(letters.index(letter) - shift )%len(letters)]\n",
        "    return text"
      ]
    },
    {
      "cell_type": "code",
      "execution_count": null,
      "id": "4289e499",
      "metadata": {
        "id": "4289e499"
      },
      "outputs": [],
      "source": [
        "caesar_decrypt(\n",
        "    caesar_encrypt(\"WPXYZABC\",4),4)"
      ]
    },
    {
      "cell_type": "code",
      "execution_count": null,
      "id": "0117c05d",
      "metadata": {
        "id": "0117c05d"
      },
      "outputs": [],
      "source": [
        "def caesar_encrypt(message, shift):\n",
        "    lb = ord(\"A\")\n",
        "    ub = ord(\"Z\")\n",
        "    encrypted_message=\"\"\n",
        "    for letter in message:\n",
        "        encrypted = (((ord(letter) - lb) + shift )% (ub-lb+1)) + lb\n",
        "        encrypted_message += chr(encrypted)\n",
        "    return encrypted_message\n",
        "\n",
        "\n",
        "def caesar_decrypt(message, shift):\n",
        "    lb = ord(\"A\")\n",
        "    ub = ord(\"Z\")\n",
        "    decrypted_message=\"\"\n",
        "    for letter in message:\n",
        "        decrypted = (((ord(letter) - lb) - shift )% (ub-lb+1)) + lb\n",
        "        decrypted_message += chr(decrypted)\n",
        "    return decrypted_message\n"
      ]
    }
  ],
  "metadata": {
    "colab": {
      "include_colab_link": true,
      "provenance": []
    },
    "kernelspec": {
      "display_name": "python12",
      "language": "python",
      "name": "python3"
    },
    "language_info": {
      "codemirror_mode": {
        "name": "ipython",
        "version": 3
      },
      "file_extension": ".py",
      "mimetype": "text/x-python",
      "name": "python",
      "nbconvert_exporter": "python",
      "pygments_lexer": "ipython3",
      "version": "3.12.0"
    }
  },
  "nbformat": 4,
  "nbformat_minor": 5
}
