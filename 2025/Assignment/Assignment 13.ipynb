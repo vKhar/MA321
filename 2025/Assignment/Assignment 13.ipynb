{
  "cells": [
    {
      "cell_type": "markdown",
      "metadata": {
        "id": "view-in-github",
        "colab_type": "text"
      },
      "source": [
        "<a href=\"https://colab.research.google.com/github/vKhar/MA321/blob/main/2025/Assignment/Assignment%2013.ipynb\" target=\"_parent\"><img src=\"https://colab.research.google.com/assets/colab-badge.svg\" alt=\"Open In Colab\"/></a>"
      ]
    },
    {
      "cell_type": "markdown",
      "id": "e4e2f77e",
      "metadata": {
        "id": "e4e2f77e"
      },
      "source": [
        "## 13.1 LCM\n",
        "In Mathematics, the lowest common multiple (LCM) of two integers `a` and` b`  is the smallest  positive integer that is a multiple of `a` and `b`. Write a function `lcm(a,b)` that computes the LCM of two positive numbers a, b. Your code should make use of List and For Loop to implement the solution. You do not need to use prime factorisation or GCD/HCF."
      ]
    },
    {
      "cell_type": "code",
      "execution_count": null,
      "id": "498c1574",
      "metadata": {
        "id": "498c1574"
      },
      "outputs": [],
      "source": [
        "## Code here\n"
      ]
    },
    {
      "cell_type": "markdown",
      "id": "09cc9e54",
      "metadata": {
        "id": "09cc9e54"
      },
      "source": [
        "## 13.2 Null Cipher\n",
        "\n",
        "### Problem Background\n",
        "There are two primary methods to obscuring information you wish to keep hidden. Cryptography uses an algorithm or similar process to convert a message to another form, rendering it illegible. Steganography aims to simply hide a message so that a would-be eavesdropper doesn't realize a message actually exists in the first place. Steganography has taken a wide range of forms throughout history: messages written in invisible ink, patterns representing Morse Code knitted into sweaters, and messages shrunk to microscopic size and printed on transparent film have all been used throughout history. One of the simplest forms of steganography known as the \"null cipher\"\n",
        "\n",
        "### Problem Description\n",
        "The null cipher is effective because it appears to be a perfectly harmless message. The secret message - known as a ciphertext - is hidden within another message by adding in a large number of eavesdropper would see the message and not realize there was a second message hidden inside, but the intended recipient would know to remove certain words or characters to restore the original message.\n",
        "\n",
        "Lockheed Martin is working with the National Security Agency to test a slightly different form of null cipher. The NSA intends to embed a message within a string of random characters. Their hope is that an eavesdropper will suspect a hidden message, but will assume that the random nature of the reality, the message will simply be scattered throughout the text string. Any character that is part of the actual message will immediately follow an English vowel; that is, one of the letters a, e, i, o, or u.\n",
        "When those characters occur in the actual message, they will follow a different vowel; the character after them is not part of the message.\n",
        "For example, the string below can be read as \"helloworld\":\n",
        "\n",
        "fksa**h**nlgu**e**yi**l**fhna**l**fkjnhdssa**o**kjfhndsfi**w**a**o**u**r**hnfdjgba**l**fkjshe**d**fnsf\n",
        "\n",
        "### Task\n",
        "- write a Python function `null_cipher(random_text)` to extract and return the hidden message from the random text\n",
        "- You can use the following test cases:\n",
        "    - fksahnlgueyilfhnalfkjnhdssaokjfhndsfiwaourhnfdjgbalfkjshedfnsf\n",
        "    - mkjmnacioudhrieeqwthyiugueresjfgwatfhwghfnhgnffn\n",
        "    - elruoqywicwnjksakvfbsgyohuehnghiefhggadfgsfsfs"
      ]
    },
    {
      "cell_type": "code",
      "execution_count": null,
      "id": "d1ed3698",
      "metadata": {
        "id": "d1ed3698"
      },
      "outputs": [],
      "source": [
        "def null_cipher(random_text):\n",
        "    #Code here\n",
        "    pass\n",
        "\n"
      ]
    },
    {
      "cell_type": "code",
      "execution_count": null,
      "id": "a3b4d146",
      "metadata": {
        "id": "a3b4d146"
      },
      "outputs": [],
      "source": [
        "## Test cases\n",
        "for random_text in (\"fksahnlgueyilfhnalfkjnhdssaokjfhndsfiwaourhnfdjgbalfkjshedfnsf\",\n",
        "                    \"mkjmnacioudhrieeqwthyiugueresjfgwatfhwghfnhgnffn\",\n",
        "                    \"elruoqywicwnjksakvfbsgyohuehnghiefhggadfgsfsfs\" ):\n",
        "    print(null_cipher(random_text))"
      ]
    },
    {
      "cell_type": "markdown",
      "id": "e10af341",
      "metadata": {
        "id": "e10af341"
      },
      "source": [
        "## 13.3 Caesar cipher.\n",
        "\n",
        "The goal of this exercise is to write a cyclic cipher to encrypt messages. This type of cipher was used by Julius Caesar to communicate with his generals. It is very simple to generate but it can actually be easily broken and does not provide the security one would hope for.\n",
        "\n",
        "The key idea behind the Caesar cipher is to replace each letter by a letter some fixed number of positions down the alphabet. For example, if we want to create a cipher shifting by 3, you will get the following mapping:\n",
        "\n",
        "\n",
        "\n",
        "| Cipher with shift 3|| | | | | | | | | | | | | | | | | | | | | | | | | |\n",
        "|-         |-|-|-|-|-|-|-|-|-|-|-|-|-|-|-|-|-|-|-|-|-|-|-|-|-|-|\n",
        "|Plain:    |A|B|C|D|E|F|G|H|I|J|K|L|M|N|O|P|Q|R|S|T|U|V|W|X|Y|Z|\n",
        "|Cipher:   |D|E|F|G|H|I|J|K|L|M|N|O|P|Q|R|S|T|U|V|W|X|Y|Z|A|B|C|\n",
        "\n",
        "\n",
        "### Task 1\n",
        "Write a Python function `caesar_encypt(message, shift)` where\n",
        "- `message` is the clear text message and\n",
        "- `shift` is the number of position to shift\n",
        "- you can assume that the message only contain upper case letters\n",
        "\n",
        "\n",
        "### Task 2\n",
        "Write a Python function `caesar_decrypt(cipher_text, shift)` where\n",
        "- `cipher_text` is the encrypted message and\n",
        "- `shift` is the number of position to shift\n",
        "- you can assume that the message only contain upper case letters\n"
      ]
    },
    {
      "cell_type": "code",
      "execution_count": null,
      "id": "817a4d57",
      "metadata": {
        "id": "817a4d57"
      },
      "outputs": [],
      "source": [
        "## Code here"
      ]
    }
  ],
  "metadata": {
    "kernelspec": {
      "display_name": "python12",
      "language": "python",
      "name": "python3"
    },
    "language_info": {
      "codemirror_mode": {
        "name": "ipython",
        "version": 3
      },
      "file_extension": ".py",
      "mimetype": "text/x-python",
      "name": "python",
      "nbconvert_exporter": "python",
      "pygments_lexer": "ipython3",
      "version": "3.12.0"
    },
    "colab": {
      "provenance": [],
      "include_colab_link": true
    }
  },
  "nbformat": 4,
  "nbformat_minor": 5
}