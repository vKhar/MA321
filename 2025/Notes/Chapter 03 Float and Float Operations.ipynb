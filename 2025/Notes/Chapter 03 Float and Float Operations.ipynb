{
 "cells": [
  {
   "cell_type": "markdown",
   "id": "a939cdb4",
   "metadata": {},
   "source": [
    "# Learning Objectives\n",
    "\n",
    "- assigning float data types to variables\n",
    "- use arithmetic operator between float data types\n",
    "\n",
    "[![Open In Colab](https://colab.research.google.com/assets/colab-badge.svg)](https://colab.research.google.com/beertino/MA321/blob/main/2025/Notes/Chapter%2003%20Float%20and%20Float%20Operations.ipynb)  "
   ]
  },
  {
   "cell_type": "markdown",
   "metadata": {},
   "source": [
    "# 3 `float` Data Type"
   ]
  },
  {
   "cell_type": "markdown",
   "metadata": {},
   "source": [
    "The `float` type in Python represents the floating point number, roughly the real number in mathematics.\n",
    "\n",
    "Run the code below."
   ]
  },
  {
   "cell_type": "code",
   "execution_count": null,
   "metadata": {},
   "outputs": [],
   "source": [
    "print(type(4.5))"
   ]
  },
  {
   "cell_type": "markdown",
   "metadata": {},
   "source": [
    "#### Example 3.1\n",
    "\n",
    "Which of the following variables are `float`? You may use the function `type()` to verify your answer.\n",
    "\n",
    "```python\n",
    "a1 = 5\n",
    "a2 = 5.0\n",
    "\n",
    "b1 = 2022 / 2\n",
    "b2 = 2022 // 2\n",
    "\n",
    "c1 = 9 ** 2\n",
    "c2 = 9 ** 0\n",
    "c3 = 9 ** 0.5\n",
    "\n",
    "d1 = \"1.23\"\n",
    "d2 = 4e5\n",
    "```"
   ]
  },
  {
   "cell_type": "code",
   "execution_count": null,
   "metadata": {},
   "outputs": [],
   "source": [
    "# Verify your answer here"
   ]
  },
  {
   "cell_type": "markdown",
   "metadata": {},
   "source": [
    "## 3.1 Type Casting to and from `float`"
   ]
  },
  {
   "cell_type": "markdown",
   "metadata": {},
   "source": [
    "We may cast an integer or a string to a float by using `float()`.\n",
    "\n",
    "Run the code cell below."
   ]
  },
  {
   "cell_type": "code",
   "execution_count": null,
   "metadata": {},
   "outputs": [],
   "source": [
    "i1 = 123\n",
    "s1 = \"4.56\"\n",
    "s2 = \"789\"\n",
    "\n",
    "f1 = float(i1)\n",
    "f2 = float(s1)\n",
    "f3 = float(s2)\n",
    "\n",
    "print(f1, type(f1))\n",
    "print(f2, type(f2))\n",
    "print(f3, type(f3))"
   ]
  },
  {
   "cell_type": "markdown",
   "metadata": {},
   "source": [
    "We may cast a float or a string to an integer by using `int()`.\n",
    "\n",
    "Run the code cell below."
   ]
  },
  {
   "cell_type": "code",
   "execution_count": null,
   "metadata": {},
   "outputs": [],
   "source": [
    "s3 = \"2022\"\n",
    "\n",
    "f4 = 11.49\n",
    "f5 = -5.6\n",
    "\n",
    "i2 = int(s3)\n",
    "i3 = int(f4)\n",
    "i4 = int(f5)\n",
    "\n",
    "print(i2, type(i2))\n",
    "print(i3, type(i3))\n",
    "print(i4, type(i4))"
   ]
  },
  {
   "cell_type": "markdown",
   "metadata": {},
   "source": [
    "Note that a `float` value is casted to an `int` value, the decimal portion is truncated, not rounded."
   ]
  },
  {
   "cell_type": "markdown",
   "metadata": {},
   "source": [
    "#### Example 3.2\n",
    "\n",
    "To convert a temperature in degrees Celsius `temp_C` to Fahrenheit `temp_F`, the formula is `temp_C * 1.8 + 32 = temp_F`.\n",
    "\n",
    "Prompt the user to key in a `float` temperature in degree Celsius, print the equivalent temperature in Fahrenheit.\n",
    "\n",
    "*Sample input:*\n",
    "```text\n",
    "Key in a temperature in degree Celsius: 37.6\n",
    "```\n",
    "*Sample output:*\n",
    "```text\n",
    "37.6 C = 99.68 F\n",
    "```"
   ]
  },
  {
   "cell_type": "code",
   "execution_count": null,
   "metadata": {},
   "outputs": [],
   "source": [
    "# Code here"
   ]
  },
  {
   "cell_type": "markdown",
   "metadata": {},
   "source": [
    "# 3.2 Rounding a Float"
   ]
  },
  {
   "cell_type": "markdown",
   "metadata": {},
   "source": [
    "We can use the `round()` function to round off a `float` value to a certain level of precision.\n",
    "\n",
    "***Syntax***\n",
    "\n",
    ">`round(number, digits)`\n",
    "\n",
    "**Parameters**     | **Required/Optional**   | **Description** \n",
    ":-                 | :-                      | :-\n",
    "`number`           | Required                | The number to be rounded\n",
    "`digits`           | Optional, default = 0   | The number of decimals to use when rounding the number"
   ]
  },
  {
   "cell_type": "markdown",
   "metadata": {},
   "source": [
    "Try the `round()` function to observe how it works."
   ]
  },
  {
   "cell_type": "code",
   "execution_count": null,
   "metadata": {},
   "outputs": [],
   "source": [
    "print(round(713.25178))\n",
    "print(round(713.25178, 1))\n",
    "print(round(713.25178, 2))\n",
    "print(round(713.25178, 3))\n",
    "print(round(713.25178, -1))\n",
    "print(round(713.25178, -2))"
   ]
  },
  {
   "cell_type": "markdown",
   "metadata": {},
   "source": [
    "#### Example 3.3\n",
    "\n",
    "Prompt the user to input the radius of a circle as a `float`, print the circumference and area of the circle, giving your answer  to 2 decimal places. You may use `pi = 3.1416`.\n",
    "\n",
    "*Sample input:*\n",
    "```text\n",
    "Radius of circle: 3.2\n",
    "```\n",
    "*Sample output:*\n",
    "```\n",
    "The circumference is 20.11 and the area is 32.17.\n",
    "```"
   ]
  },
  {
   "cell_type": "code",
   "execution_count": null,
   "metadata": {},
   "outputs": [],
   "source": [
    "# Code here"
   ]
  },
  {
   "cell_type": "markdown",
   "metadata": {},
   "source": [
    "# 3.3 Format a Float using f-string"
   ]
  },
  {
   "cell_type": "markdown",
   "metadata": {},
   "source": [
    "Instead of rounding the float, we may make use of **f-string** to format the number of decimal places in the output. Run the code below."
   ]
  },
  {
   "cell_type": "code",
   "execution_count": null,
   "metadata": {},
   "outputs": [],
   "source": [
    "r = 3.2\n",
    "pi = 3.1416\n",
    "circum = 2 * pi * r\n",
    "\n",
    "print(f\"The circumference is {circum:.2f}.\")"
   ]
  }
 ],
 "metadata": {
  "kernelspec": {
   "display_name": "Python 3",
   "language": "python",
   "name": "python3"
  },
  "language_info": {
   "codemirror_mode": {
    "name": "ipython",
    "version": 3
   },
   "file_extension": ".py",
   "mimetype": "text/x-python",
   "name": "python",
   "nbconvert_exporter": "python",
   "pygments_lexer": "ipython3",
   "version": "3.6.4"
  }
 },
 "nbformat": 4,
 "nbformat_minor": 5
}
