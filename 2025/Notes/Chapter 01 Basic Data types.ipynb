{
 "cells": [
  {
   "cell_type": "markdown",
   "id": "99fc1a5e",
   "metadata": {},
   "source": [
    "# Learning Objectives\n",
    "\n",
    "- assigning integer data types to variables\n",
    "- use arithmetic operators between integer data types\n",
    "\n",
    "[![Open In Colab](https://colab.research.google.com/assets/colab-badge.svg)](https://colab.research.google.com/github/beertino/MA321/blob/main/2025/Notes/Chapter%2001%20Basic%20Data%20types.ipynb)  "
   ]
  },
  {
   "cell_type": "markdown",
   "id": "40f9ce1a",
   "metadata": {},
   "source": [
    "# 1 Data Types\n",
    "\n",
    ">In computer science, a data is defined to be a sequence of one or more symbols. \n",
    "\n",
    "Note that under this definition, data doesn't need to carry information or even be meaningful. However, to make use of data, we need to endow it with more structure and make it meaningful. \n",
    "\n",
    "## 1.1 Basic Data Types\n",
    "\n",
    "Data can be categorised into different types, i.e. a data type is a category/class of data. The following are 5 basic data types which are found in most programming languages:\n",
    "\n",
    "| No | Data Type             | Definition                                                        | Examples                   | Benefits                                                        | Limitations                                        |\n",
    "|---|-----------------------|-------------------------------------------------------------------|----------------------------|-----------------------------------------------------------------|----------------------------------------------------|\n",
    "| 1 | Integer `int`               | A whole number or number without a fractional part                | `-1`, `0`, `1`, `1000`                | Full precision with finite digits                               | Typically limited to a specific range              |\n",
    "| 2 | Floating Point Number `float`| A number with ( or calculated with) a fractional part              | `-1.5`, `0.1`, $\\tt{\\frac{1}{3}}$,`2.5`, $\\pi$       | Stores rational/irrational numbers with reasonable accuracy     | Not exact; not 100% precise                        |\n",
    "| 3 | Boolean `Boolean`              | Two values representing either true or false in a logic statement | `True`, `False`                | Space efficient when needed to represent values that are binary | Only 2 possible values                             |\n",
    "| 4 | String `str`                | A collection of symbols                                           | `a`, `abc`, `123`, `a string` | Allows for more human-readable information                      | Mapped values cannot be manipulated arithmetically |\n",
    "| 5 | `None`                  |  A null variable or object                                                                 |                            |                                                                 |                                                    |\n",
    "\n",
    "The first two data types corresponds to the integers and the real numbers that we are familiar with in mathematics.\n",
    "\n",
    "We may also manipulate these values by performing various operations on them. Essentially, when we write code, we may form expressions via the use of operators to manipulate data.\n",
    "\n",
    "Python has many other data types built-in by default, in these categories (you don't need to know most of them, but pay more attention to the numeric types `int`, `float`, `complex` , `list`, `bool` and `dict`).\n",
    "\n",
    "- Text Type:\t`str`\n",
    "- Numeric Types:\t`int`, `float`, `complex`\n",
    "- Sequence Types:\t`list`, `tuple`, `range`\n",
    "- Mapping Type:\t`dict`\n",
    "- Set Types:\t`set`, `frozenset`\n",
    "- Boolean Type:\t`bool`\n",
    "- Binary Types:\t`bytes`, `bytearray`, `memoryview`\n",
    "\n",
    "we can find out the type of an object in Python using the function `type()` and putting the object inside the parentheses `()`.\n",
    "\n",
    "Run the code cell below."
   ]
  },
  {
   "cell_type": "markdown",
   "id": "bb460340",
   "metadata": {},
   "source": [
    "In programming, data type is an important concept. Variables can store data of different types, and different types can do different things.\n"
   ]
  },
  {
   "cell_type": "code",
   "execution_count": null,
   "id": "456d6eae",
   "metadata": {},
   "outputs": [],
   "source": [
    "type(2)"
   ]
  },
  {
   "cell_type": "markdown",
   "id": "80807377",
   "metadata": {},
   "source": [
    "**Example 1.1**\n",
    "\n",
    "In the code cell below, use `type()` to find out the data type of the following variables.\n",
    "```python\n",
    "var1 = 2021\n",
    "var2 = -21\n",
    "var3 = 123.45\n",
    "var4 = 3.0\n",
    "var5 = \"100\"\n",
    "var6 = (1, 2)\n",
    "var7 = [1, 2]\n",
    "var8 = {1, 2}\n",
    "var9 = 0b101\n",
    "```"
   ]
  },
  {
   "cell_type": "code",
   "execution_count": null,
   "id": "f75ef74b",
   "metadata": {},
   "outputs": [],
   "source": [
    "# Code here"
   ]
  },
  {
   "cell_type": "markdown",
   "id": "8904151f",
   "metadata": {},
   "source": [
    "## 1.2 Operators\n",
    "\n",
    ">An operator is a symbol that *operates* on one or more values, i.e. it is a symbol that represents an action or process. \n",
    "\n",
    "### 1.2.1 Arithmetic Operations\n",
    "\n",
    "An arithmetic operator is an operator that work on numeric data types. The typical operations that may be performed on numbers include:\n",
    "\n",
    "<center>\n",
    "\n",
    "No|     Operation    | Symbol |\n",
    ":-:|:----------------:|:------:|\n",
    "1|     Addition     |    `+`   |\n",
    "2|    Subtraction   |    `-`   |\n",
    "3|  Multiplication  |    `*`   |\n",
    "4|     Division     |    `/`   |\n",
    "5| Integer Division |   `//`   |\n",
    "6|      Modulo      |    `%`   |\n",
    "7|      Power      |   `**`   |\n",
    "\n",
    "</center>\n",
    "\n",
    "The first four operations are the same as their counter parts in mathematics. \n",
    "\n",
    "When used between 2 integers, `a` and `b`, the integer division `//` and modulo `%` is written as `a // b` and `a % b`. `a // b` gives the quotient when `a` is divided by `b` and `a % b` gives the remainder when `a` is divided by `b`.\n",
    "\n",
    "The notation for exponentiation in Python is double asterisk `**` as the caret `^` is reserved for another operation.\n",
    "\n",
    ">It's demo time. Try the operations with the following pairs `(15,10)`, `(3,4)`, `(124,20)`"
   ]
  },
  {
   "cell_type": "code",
   "execution_count": null,
   "id": "5417ee68",
   "metadata": {},
   "outputs": [],
   "source": [
    "#YOUR_CODE_HERE"
   ]
  },
  {
   "cell_type": "markdown",
   "id": "fdd2dbfa",
   "metadata": {},
   "source": [
    "Run the code cell below to better understand these operators."
   ]
  },
  {
   "cell_type": "code",
   "execution_count": null,
   "id": "52611285",
   "metadata": {},
   "outputs": [],
   "source": [
    "a = 9\n",
    "b = 2\n",
    "\n",
    "print('Addition:\\t', a, '+', b, '=', a + b)\n",
    "\n",
    "print('Subtraction:\\t', a, \"-\", b, '=', a - b)\n",
    "\n",
    "print('Multiplication:\\t', a, \"*\", b, '=', a * b)\n",
    "\n",
    "print('Division:\\t', a, \"/\", b, '=', a / b)\n",
    "\n",
    "# when we floor divide the first number by the second number, we perform normal division but truncate the decimal point.\n",
    "print('Floor Division:\\t', a, '//', b, '=', a // b)\n",
    "\n",
    "# the remainder operator divides the first number by the second number and returns the remainder of the operation.\n",
    "# this is useful to determine if a number has an odd or even value.\n",
    "print('Remainder:\\t', a, '%', b, '=', a % b)\n",
    "\n",
    "# the exponent operator returns the result of the first number raised to the power of the second number.\n",
    "print('Exponent:\\t', a, '**', b, '=', a ** b)\n"
   ]
  },
  {
   "cell_type": "markdown",
   "id": "6d6c8ac5",
   "metadata": {},
   "source": [
    "Note:\n",
    "- Division `/` of integers returns a `float` regardless of the divisibility.\n",
    "- Floor division `//` performs usual division, then **round down** the result to an integer (`int`).\n",
    "- Exponent operator `a ** b` returns an `int` only if `a` is an integer and `b` is a non-negative integer."
   ]
  },
  {
   "cell_type": "markdown",
   "id": "2903407d",
   "metadata": {},
   "source": [
    "**Example 1.2**\n",
    "\n",
    "Write code to find the quotient and reminder when 2021 is divided by 9. You may copy-paste and edit the code below.\n",
    "```python\n",
    "dividend = 2021\n",
    "divisor = 9\n",
    "\n",
    "quotient = # find the quotient here\n",
    "remainder = # find the reminder here\n",
    "\n",
    "print('When', dividend, 'is divided by', divisor, ':')\n",
    "print('quotient is', quotient)\n",
    "print('remainder is', remainder)\n",
    "```"
   ]
  },
  {
   "cell_type": "code",
   "execution_count": null,
   "id": "bfd29273",
   "metadata": {},
   "outputs": [],
   "source": [
    "# Code here"
   ]
  },
  {
   "cell_type": "markdown",
   "id": "9c0fd147",
   "metadata": {},
   "source": [
    "### 1.2.2 Precedence\n",
    "When more than one operator appears in an expression, the order of evaluation depends on the rules of precedence. For mathematical operators, Python follows mathematical convention. The acronym **PEMDAS** (or its synonym *BODMAS* standing for Bracket, Order, Division, Multiplication, Division, Addition and Subtraction) is a useful way to remember the rules:\n",
    "- **P**arentheses have the highest precedence and can be used to force an expression to evaluate in the order you want. You can also use parentheses to make an expression easier to read, even if it doesn't change the result.\n",
    "- **E**xponentiation has the highest precedence. What are the results for `2 ** 1 + 1` and `3 * 1 ** 3`?\n",
    "- **M**ultiplication and **D**ivision have the same precedence, which is higher than **A**ddition and **S**ubtraction, which also have the same precedence.\n",
    "- Operators with the **same precedence** are evaluated from **left to right**. So how is the expression `base * height / 2` evaluated?\n",
    "\n",
    "Note:\n",
    "- In Python and many other programming languages, only `()` is used as parentheses. `[]` and `{}` have other applications in different programming languages."
   ]
  },
  {
   "cell_type": "markdown",
   "id": "067295c1",
   "metadata": {},
   "source": [
    "#### Example 1.3\n",
    "\n",
    "Write code below to find the ones digit and tens digit of a positive integer `num`.\n",
    "```python\n",
    "num = 123456789\n",
    "\n",
    "ones_digit =\n",
    "tens_digit =\n",
    "\n",
    "print(\"Ones digit of\", num, \"is\", ones_digit)\n",
    "print(\"Tens digit of\", num, \"is\", tens_digit)\n",
    "```\n",
    "The expected output are\n",
    "\n",
    "``` text\n",
    "Ones digit of 123456789 is 9\n",
    "Tens digit of 123456789 is 8\n",
    "```\n",
    "\n",
    "Your code should work for any positive integer. For example, when `num = 123`, the `ones_digit` and `tens_digit` should be `3` and `2` respectively."
   ]
  },
  {
   "cell_type": "code",
   "execution_count": null,
   "id": "0903e49f",
   "metadata": {},
   "outputs": [],
   "source": [
    "# Code here"
   ]
  }
 ],
 "metadata": {
  "kernelspec": {
   "display_name": "Python 3 (ipykernel)",
   "language": "python",
   "name": "python3"
  },
  "language_info": {
   "codemirror_mode": {
    "name": "ipython",
    "version": 3
   },
   "file_extension": ".py",
   "mimetype": "text/x-python",
   "name": "python",
   "nbconvert_exporter": "python",
   "pygments_lexer": "ipython3",
   "version": "3.10.2"
  }
 },
 "nbformat": 4,
 "nbformat_minor": 5
}
