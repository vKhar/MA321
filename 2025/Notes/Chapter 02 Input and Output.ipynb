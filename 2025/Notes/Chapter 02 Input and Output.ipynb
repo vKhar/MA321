{
 "cells": [
  {
   "cell_type": "markdown",
   "id": "f6de13f9",
   "metadata": {},
   "source": [
    "# Learning Objectives\n",
    "\n",
    "- use `input()` statement to accept user input\n",
    "- use `print()` statement for output\n",
    "\n",
    "[![Open In Colab](https://colab.research.google.com/assets/colab-badge.svg)](https://colab.research.google.com/github/njc-cz2-2021/Materials/blob/main/Notes/Chapter_02_Programming_Constructs.ipynb)  "
   ]
  },
  {
   "cell_type": "markdown",
   "metadata": {},
   "source": [
    "# 2 Input and Output\n",
    "\n",
    "The `input(MSG_TO_USER)` command allows user input, where `MSG_TO_USER` is the text you want to display to user when you asked for the input. The text is an `str` object. `str` object can pretty much be thought of as text data and in Python, is indicated by a sequence of characters enclosed by single quotes, `'example'` or double quotes `\"another_example\"`. \n",
    "\n",
    "When using `input()`, variable assigned is also of `str` type. \n",
    "\n",
    "Run the code cell below."
   ]
  },
  {
   "cell_type": "code",
   "execution_count": null,
   "metadata": {},
   "outputs": [],
   "source": [
    "user_input = input()\n",
    "print(\"You just typed\", user_input)"
   ]
  },
  {
   "cell_type": "markdown",
   "metadata": {},
   "source": [
    "#### Example 2.1\n",
    "\n",
    "Copy-paste the code to the cell below and run it.\n",
    "\n",
    "```python\n",
    "birth_year = input(\"Which year were you born in? \")\n",
    "print(\"You were born in\", birth_year)\n",
    "\n",
    "favourite_song = input(\"What is the name of your favourite song?\")\n",
    "print(\"Your favourite song is\", favourite_song)\n",
    "```"
   ]
  },
  {
   "cell_type": "code",
   "execution_count": null,
   "metadata": {},
   "outputs": [],
   "source": [
    "# test the code here"
   ]
  },
  {
   "cell_type": "markdown",
   "id": "9011edff",
   "metadata": {},
   "source": [
    "# 2.1 String Concatenation\n",
    "Recall that `str` could be thought of as just literal characters/words. If `x` and `y` are variables of `str` type, `x + y` is the *serial joining* of the characters in each variable. "
   ]
  },
  {
   "cell_type": "code",
   "execution_count": null,
   "id": "9e959f8d",
   "metadata": {},
   "outputs": [],
   "source": [
    "x = 'a'\n",
    "y = 'b'\n",
    "\n",
    "print(x + y) # output should be 'ab'. Try it. "
   ]
  },
  {
   "cell_type": "markdown",
   "metadata": {},
   "source": [
    "Read the code below. Guess what it does and test your guess by running it."
   ]
  },
  {
   "cell_type": "code",
   "execution_count": null,
   "metadata": {},
   "outputs": [],
   "source": [
    "number1 = input(\"Input the first number: \")\n",
    "number2 = input(\"Input the second number: \")\n",
    "\n",
    "their_sum = number1 + number2\n",
    "print(\"The sum of the two numbers is\", their_sum)"
   ]
  },
  {
   "cell_type": "markdown",
   "metadata": {},
   "source": [
    "# 2.2. Integer Type Casting with `int()`\n",
    "As we can see ourselves, the variable `their_sum` in the previous code block is probably not what we want. This is due to the data type of `number1` and `number2`\n",
    "\n",
    "Run the code cell below."
   ]
  },
  {
   "cell_type": "code",
   "execution_count": null,
   "metadata": {},
   "outputs": [],
   "source": [
    "type(number1)\n",
    "type(number2)"
   ]
  },
  {
   "cell_type": "markdown",
   "metadata": {},
   "source": [
    "To resolve the issue, we need to change the type of the variable `number1` from `str` to `int`.\n",
    "\n",
    "In Python, this can be done with `int()` command. \n",
    "\n",
    "Run the modified code in the cell below."
   ]
  },
  {
   "cell_type": "code",
   "execution_count": null,
   "metadata": {},
   "outputs": [],
   "source": [
    "number1 = input(\"Input the first number: \")\n",
    "number2 = int(input(\"Input the second number: \"))\n",
    "\n",
    "number1 = int(number1)\n",
    "\n",
    "their_sum = number1 + number2\n",
    "print(\"The sum of the two numbers is\", their_sum)"
   ]
  },
  {
   "cell_type": "markdown",
   "metadata": {},
   "source": [
    "#### Example 2.2\n",
    "\n",
    "Prompt the user to key in the `length` and `breadth` of a rectangle, then find its `perimeter` and `area`. You may work on the following code:\n",
    "\n",
    "```python\n",
    "# prompt the user to input\n",
    "\n",
    "# calculations\n",
    "\n",
    "print(\"Perimeter of rectangle:\", perimeter)\n",
    "print(\"Area of rectangle:\", area)\n",
    "```"
   ]
  },
  {
   "cell_type": "code",
   "execution_count": null,
   "metadata": {},
   "outputs": [],
   "source": [
    "# Code here"
   ]
  },
  {
   "cell_type": "markdown",
   "metadata": {},
   "source": [
    "In **Example 2.2**, what will happen if the user key in something not integer (e.g. `a123`)?"
   ]
  },
  {
   "cell_type": "markdown",
   "metadata": {},
   "source": [
    "# 2.3 Output\n",
    "The `print()` function prints the given object to the standard output device (screen) or to the text stream file.\n",
    "\n",
    "***Syntax***\n",
    "\n",
    ">`print(*objects, sep=' ', end='\\n')`\n",
    "\n",
    "**Paremeters**     | **Required/Optional**   | **Description** \n",
    ":-                 | :-                      | :-\n",
    "`*objects`         | Optional, default = \"\"  |  Object to the printed. * indicates that there may be more than one object.\n",
    "`sep`              | Optional, default = \" \" |  Objects are separated by `sep`.\n",
    "`end`              | Optional, default = \"\\n\"|  `end` is printed at last.\n",
    "\n",
    "Run the code cell below to observe the output."
   ]
  },
  {
   "cell_type": "code",
   "execution_count": null,
   "metadata": {},
   "outputs": [],
   "source": [
    "# Run this cell.\n",
    "\n",
    "subject = \"Python\"\n",
    "verb = \"is\"\n",
    "adjective = \"cool\"\n",
    "punctuation = \"!\"\n",
    "\n",
    "print(subject, verb, adjective, punctuation)\n",
    "print(subject, verb, adjective, punctuation, sep = \"\")\n",
    "\n",
    "print(subject, verb, adjective, punctuation, end = \"\\t\")\n",
    "print(subject, verb, adjective, punctuation, sep = \",\")"
   ]
  },
  {
   "cell_type": "markdown",
   "metadata": {},
   "source": [
    "#### Example 2.3\n",
    "\n",
    "Then use the `print()` function and the variables `subject`, `verb`, `adjective` and `punctuation` to output\n",
    "\n",
    "```python\n",
    "Python is cool!\n",
    "```"
   ]
  },
  {
   "cell_type": "code",
   "execution_count": null,
   "metadata": {},
   "outputs": [],
   "source": [
    "subject = \"Python\"\n",
    "verb = \"is\"\n",
    "adjective = \"cool\"\n",
    "punctuation = \"!\"\n",
    "\n",
    "# Code here"
   ]
  },
  {
   "cell_type": "markdown",
   "metadata": {},
   "source": [
    "# 2.3 Improved Output Formatting\n",
    "There are two main ways to improve the output format. The \"old-school\" way is to use `string.format()`. You may refer to https://www.w3schools.com/python/ref_string_format.asp for more details.\n",
    "\n",
    "\n",
    "We will focus on the more \"trendy\" way, **f-string**, in this course."
   ]
  },
  {
   "cell_type": "markdown",
   "metadata": {},
   "source": [
    "Run the code cell below."
   ]
  },
  {
   "cell_type": "code",
   "execution_count": null,
   "metadata": {},
   "outputs": [],
   "source": [
    "name = \"Mr Wang\"\n",
    "age = 40\n",
    "school = \"National Junior College\""
   ]
  },
  {
   "cell_type": "markdown",
   "metadata": {},
   "source": [
    "For example, I want to make use the variables `name`, `age` and `school` to print out\n",
    "\n",
    "`Hello. I am Mr Wang. I am 40 years old. I am teaching in National Junior College.`\n",
    "\n",
    "The code cell below is the traditional method. (Run it)"
   ]
  },
  {
   "cell_type": "code",
   "execution_count": null,
   "metadata": {},
   "outputs": [],
   "source": [
    "print(\"Hello. I am \", name, \". I am \", age, \" years old. I am teaching in \", school, \".\", sep = \"\")"
   ]
  },
  {
   "cell_type": "markdown",
   "metadata": {},
   "source": [
    "**f-string** allows user to do the following to see the same output. Run the code cell below."
   ]
  },
  {
   "cell_type": "code",
   "execution_count": null,
   "metadata": {},
   "outputs": [],
   "source": [
    "print(f\"Hello. I am {name}. I am {age} years old. I am teaching in {school}.\")"
   ]
  },
  {
   "cell_type": "markdown",
   "metadata": {},
   "source": [
    "#### Example 2.4\n",
    "\n",
    "Prompt the user to input his/her name, class and number of students in the class. Then print information in the following format:\n",
    "\n",
    "*Sample input:*\n",
    "\n",
    "```text\n",
    "Name: Alice\n",
    "Class: JH308\n",
    "Number of students in class: 30\n",
    "```\n",
    "\n",
    "*Sample output:*\n",
    "\n",
    "``` text\n",
    "Alice is from JH308. Alice has 29 classmates.\n",
    "```"
   ]
  },
  {
   "cell_type": "code",
   "execution_count": null,
   "metadata": {},
   "outputs": [],
   "source": [
    "# code here"
   ]
  },
  {
   "cell_type": "markdown",
   "metadata": {},
   "source": [
    "We will learn how to use **f-string** to improve the output formatting of a `float` variable in a later lesson."
   ]
  }
 ],
 "metadata": {
  "kernelspec": {
   "display_name": "Python 3",
   "language": "python",
   "name": "python3"
  },
  "language_info": {
   "codemirror_mode": {
    "name": "ipython",
    "version": 3
   },
   "file_extension": ".py",
   "mimetype": "text/x-python",
   "name": "python",
   "nbconvert_exporter": "python",
   "pygments_lexer": "ipython3",
   "version": "3.6.4"
  }
 },
 "nbformat": 4,
 "nbformat_minor": 5
}
