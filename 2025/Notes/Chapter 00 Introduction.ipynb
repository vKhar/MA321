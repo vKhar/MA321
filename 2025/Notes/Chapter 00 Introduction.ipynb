{
 "cells": [
  {
   "cell_type": "markdown",
   "id": "d56f2aa4",
   "metadata": {},
   "source": [
    "# Learning Objectives\n",
    "\n",
    "- declaring variable assignment\n",
    "- use `print()` statement for output\n",
    "\n",
    "(FIX the link)\n",
    "[![Open In Colab](https://colab.research.google.com/assets/colab-badge.svg)](https://colab.research.google.com/github/njc-cz2-2021/Materials/blob/main/Notes/Chapter_02_Programming_Constructs.ipynb)  "
   ]
  },
  {
   "cell_type": "markdown",
   "id": "894d81c9",
   "metadata": {},
   "source": [
    "# 0.1 Introduction to the Module"
   ]
  },
  {
   "cell_type": "markdown",
   "id": "285f4058",
   "metadata": {},
   "source": [
    "**Module Name:  Enrichment Mathematics** (official name to be printed on your progress report)\n",
    "\n",
    "**Module Duration:  1.5 years** (JH3 Semester 1 and 2 + JH4 Semester 1)\n",
    "\n",
    "**Module Code:  MA321** (JH3) and **MA421** (JH4)\n",
    "\n",
    "**Module Grading:  DI (distinction) / ME (merit) / PA (pass) / U (ungraded)**\n",
    "\n",
    "**Module Objective:**  The module is designed to develop students' problem-solving and computational thinking skills through programming.\n",
    "\n",
    "**Module Learning Outcome:**\n",
    "\n",
    "At the end of the 1.5-year module, students should be able to\n",
    "- write code in Python to solve relevant problems in mathematics or in real-world context,\n",
    "- design games with simple AI.\n",
    "\n",
    "**MA321 Topics and Assessments:**\n",
    "| **Term 1**                       | **Term 2**                 | **Term 3**               | **Term 4**         |\n",
    "| :-                               | :-                         | :-                       | :-                 |\n",
    "|- Introduction                    | - Flow-control: WHILE Loop | - Computational Problem Solving with Python |    |    \n",
    "|- Integer and Integer Operations  | - String and FOR Loop      | - *CT Competition (DrCT) (?)*|    |\n",
    "|- Input and Output                | - List                     | - **Quiz 3 (40%)**       |                    \n",
    "|- Float and Float Operations      | - **Quiz 2 (30%)**         |         |                    \n",
    "|- Libraries and Built-in Functions|                                 \n",
    "|- User-defined Functions          |\n",
    "|- Boolean and Boolean Operations  |\n",
    "|- Flow-control: IF Statement      |\n",
    "|- **Quiz 1 (30%)**                |\n",
    "\n",
    "**Materials**\n",
    "- Chapter notes - to be filled up during the lesson\n",
    "- Assignment - to be completed during the lesson and to be submitted on time\n",
    "\n",
    "**Expectation on Students:**\n",
    "- Students should take the initative to set up the computer, download and open the materials at the start of each lesson.\n",
    "- Students are strongly encouraged to further extend their learning beyond the module materials.\n",
    "- Students are strongly encouraged to take part in enrichment opportunities in programming."
   ]
  },
  {
   "cell_type": "markdown",
   "id": "5fc915be",
   "metadata": {},
   "source": [
    "# 0.2 Problem Solving\n",
    "\n",
    "In problem solving, the following steps are typically performed:\n",
    "\n",
    "1. Identify the problem\n",
    "2. Structure the problem - i.e., analyse and understand the problem\n",
    "3. Look for possible solutions\n",
    "4. Make a decision\n",
    "5. Implement the solution\n",
    "6. Monitor and/or seek feedback\n",
    "\n",
    "In the phase of designing a solution to the problem, there will be specific, detailed instructions that we need to carry out to create the solution. These detailed instructions are called an **algorithm**.\n",
    "\n",
    "What we are trying to do here is to translate these algorithms into precise instructions that an electronic computer could carry out or execute. These translated instructions is called a **computer program**.\n",
    "\n",
    ">A **program** is the actual expression of an algorithm in a specific programming language. It allows the computer to execute the problem solution through a sequence of instructions.\n",
    "\n",
    "A program is also made up of lines of code that can be categorized into either an **expression** or a **statement**. \n",
    "\n",
    ">An **expression** is a syntactic entity in a programming language that may be evaluated to determine its value.\n",
    "\n",
    ">A **statement**, on the other hand, is a syntactic entity, which has no value (merely an instruction.)\n",
    "\n",
    "Example:\n",
    ">```python\n",
    ">answers = 1 + 1               # '1+1' is an expression\n",
    ">if answers == 2:\n",
    ">   print('Good Outlook')       # print('Good Outlook') is a statement.\n",
    ">```"
   ]
  },
  {
   "cell_type": "markdown",
   "id": "ebef05aa",
   "metadata": {},
   "source": [
    "# 0.3 Introduction to Python"
   ]
  },
  {
   "cell_type": "markdown",
   "id": "f1d29517",
   "metadata": {},
   "source": [
    "<p><img alt=\"Python\" src=\"https://www.python.org/static/community_logos/python-logo-master-v3-TM.png\" width = \"500\" align=\"left\"></p>\n",
    "<p><img alt=\"Python Cartoon\" src=\"https://drive.google.com/uc?id=17qx7WNiRa-JOtgCgHWPtDZ7RkmwaaUDu\" width = \"150\" align=\"right\"></p>"
   ]
  },
  {
   "cell_type": "markdown",
   "id": "81a4250f",
   "metadata": {},
   "source": [
    "Python is an interpreted, high-level and general-purpose programming language. Created by Guido van Rossum and first released in 1991, Python's design philosophy emphasizes code readability with its notable use of significant whitespace. Its language constructs and object-oriented approach aim to help programmers write clear, logical code for small and large-scale projects.\n",
    "\n",
    "Official Website: https://www.python.org"
   ]
  },
  {
   "cell_type": "markdown",
   "id": "0ef3fdf8",
   "metadata": {},
   "source": [
    " **Interpreter**                        | **Compiler**                    \n",
    " :-                                     | :-                              \n",
    " Translates program one statement at a time. |Scans the entire program and translates it as a whole into machine code.\n",
    " Interpreters usually take less amount of time to analyze the source code. However, the overall execution time is comparatively slower than compilers.\t| Compilers usually take a large amount of time to analyze the source code. However, the overall execution time is comparatively faster than interpreters.\n",
    " No Object Code is generated, hence are memory efficient.| Generates Object Code which further requires linking, hence requires more memory.\n",
    " Programming languages like JavaScript, Python, Ruby use interpreters.\t| Programming languages like C, C++, Java use compilers."
   ]
  },
  {
   "cell_type": "markdown",
   "id": "bc1635d3",
   "metadata": {},
   "source": [
    "----\n",
    "# Activity Time\n",
    "- Install Python, Jupyter Notebook\n",
    "- Download the materials for first two weeks\n",
    "----"
   ]
  },
  {
   "cell_type": "markdown",
   "id": "ac8b235b",
   "metadata": {},
   "source": [
    "# 0.4 Introduction to Jupyter"
   ]
  },
  {
   "cell_type": "markdown",
   "id": "a6c90991",
   "metadata": {},
   "source": [
    "The Jupyter Notebook is an open-source web application that allows you to create and share documents that contain live code, equations, visualizations and narrative text.\n",
    "\n",
    "The **notebook** you are reading is not a static web page, but an interactive environment that lets you write and execute code. For example, here is a **code cell** with a short Python script that computes a value, stores it in a variable, and prints the result. A code cell has `In [ ]: in front`.\n",
    "\n",
    "Select the cell and press **Run** , the triangle button to the left side of the cell. (or shortcut key `Ctrl+Enter`)."
   ]
  },
  {
   "cell_type": "code",
   "execution_count": null,
   "id": "5fc98810",
   "metadata": {
    "scrolled": true
   },
   "outputs": [],
   "source": [
    "seconds_in_a_day = 24 * 60 * 60\n",
    "print(seconds_in_a_day)"
   ]
  },
  {
   "cell_type": "markdown",
   "id": "5e887785",
   "metadata": {},
   "source": [
    "Cells used to store and display texts, tables, images and videos are called **markdown cells**. To convert a code cell to a markdown cell, select the cell the choose **Markdown** in the drop-down menu (or shortcut key `Fn + M`). To learn more shortcut keys, open the command palette next to the drop-down menu."
   ]
  },
  {
   "cell_type": "markdown",
   "id": "f92e38be",
   "metadata": {},
   "source": [
    "#### Example 0.1\n",
    "\n",
    "Convert the following markdown cell to a code cell, then run it."
   ]
  },
  {
   "cell_type": "markdown",
   "id": "2854c199",
   "metadata": {},
   "source": [
    "seconds_in_a_week = 7 * seconds_in_a_day\n",
    "print(seconds_in_a_day)\n",
    "print(seconds_in_a_week)\n",
    "print(\"Mr Wang says that it is too early to teach this concept.\")"
   ]
  },
  {
   "cell_type": "markdown",
   "id": "4d3d3a1a",
   "metadata": {},
   "source": [
    "There are typically 3 basic statements:\n",
    "\n",
    "1. Input statements\n",
    "2. Output statements\n",
    "3. Assignment statements\n",
    "\n",
    "In general, input and output (I/O) allows the communication between an information processing system (such as a computer) and an external entity (such as a human).\n",
    "\n",
    "Input is information supplied to a computer or program.\n",
    "\n",
    "Output is information provided by a computer or program.\n",
    "\n",
    "Input and Assignment statements will be elaborated further in the later section.\n",
    "\n",
    ">```python\n",
    ">x = input(\"Enter a positive integer value for x: \") #example of input statement. Note that the user input is assigned to the variable x\n",
    ">print(x) #print statement to display the output\n",
    ">```\n",
    "\n",
    "The most basic statement, and typically the first code you write when learning a programming language, is the output statement, which outputs certain data - e.g., printing `“hello world”`. There is typically also an input statement that will request input from the user.\n",
    "\n",
    "## 00.4.1 Output Statements with `print()` \n",
    "\n",
    "In Python, to get an output, we use the `print()` command. To use it, you put the content you want to output between the parentheses `()`. \n",
    "\n",
    "`print('YOUR_SPECIFIED_MESSAGE')` function prints `YOUR_SPECIFIED_MESSAGE` to the screen, or other standard output device"
   ]
  },
  {
   "cell_type": "code",
   "execution_count": null,
   "id": "4d654251",
   "metadata": {},
   "outputs": [],
   "source": [
    "#YOUR CODE HERE"
   ]
  },
  {
   "cell_type": "markdown",
   "id": "0cde7b47",
   "metadata": {},
   "source": [
    "In this example, we can use `seconds_in_a_day` from a previous cell.\n",
    "\n",
    "The `print()` function prints the specified message to the screen, or other standard output device."
   ]
  },
  {
   "cell_type": "markdown",
   "id": "8ce1cf00",
   "metadata": {},
   "source": [
    "#### Example 0.2\n",
    "\n",
    "Convert the following code cell to a markdown cell, then run it."
   ]
  },
  {
   "cell_type": "code",
   "execution_count": null,
   "id": "7387ebc3",
   "metadata": {},
   "outputs": [],
   "source": [
    "Below is an *introductory* video to the use of **markdown** cells in Jupyter.\n",
    "\n",
    "Here is the link to the video [Introduction to Markdown in Jupyter](https://www.youtube.com/watch?v=jBCB23pQeIA)"
   ]
  },
  {
   "cell_type": "markdown",
   "id": "d65de896",
   "metadata": {},
   "source": [
    "You might encounter an error message sometimes (quite often in fact) when you accidentally enter invalid statements or key in the wrong syntax etc."
   ]
  },
  {
   "cell_type": "markdown",
   "id": "38bb079e",
   "metadata": {},
   "source": [
    "#### Example 0.3\n",
    "\n",
    "Run each of the coding cells below and read the error messages."
   ]
  },
  {
   "cell_type": "code",
   "execution_count": null,
   "id": "1823a47c",
   "metadata": {},
   "outputs": [],
   "source": [
    "# Error Code 1\n",
    "2 / 0"
   ]
  },
  {
   "cell_type": "code",
   "execution_count": null,
   "id": "75c4d9b5",
   "metadata": {},
   "outputs": [],
   "source": [
    "# Error Code 2\n",
    "print(x)\n",
    "x = 2"
   ]
  },
  {
   "cell_type": "code",
   "execution_count": null,
   "id": "13b85e3d",
   "metadata": {},
   "outputs": [],
   "source": [
    "# Error Code 3\n",
    "2 = 2"
   ]
  },
  {
   "cell_type": "markdown",
   "id": "a7deee46",
   "metadata": {},
   "source": [
    "# 0.4 Programming Constructs\n",
    "\n",
    ">A programming construct is an abstract way of describing a concept in terms of the syntax of programming language. These constructs are building blocks that forms the basis of all programs. \n",
    "\n",
    "These are basic programming constructs that we need to know:\n",
    "\n",
    "- Sequence,\n",
    "- Assignment,\n",
    "- Selection,\n",
    "- Iteration.\n",
    "\n",
    "We will explore the Assignment and Selection Construct in the sections below.\n",
    "\n",
    "## 0.4.1 Programming Construct : Sequence\n",
    "\n",
    "The most general construct of programming corresponds to the sequence of instructions, or more specifically, the sequence of statements that are specified within the program code.\n",
    "\n",
    "## 0.4.2 Programming Construct : Assignment\n",
    "\n",
    "In order to process data, we typically need to store it in computer memory. This is done via the use of variables. You might be familiar with variables given their use in mathematics. However, variables in mathematics and computing are different.\n",
    "\n",
    "In computing, a variable corresponds to an identifier that references a unit of data in computer memory.\n",
    "\n",
    "In order to define a variable, we must utilise the first programming construct: an **assignment statement**.\n",
    "\n",
    "To understand how assignment and variables work, let us refer to the following example:\n",
    "\n",
    ">```text\n",
    ">#x is the variable, 100 is the data, ← is the assignment operator\n",
    ">#and the whole line below is the assignment statement\n",
    ">x ← 100\n",
    ">```\n",
    "\n",
    "The above is a typical assignment statement. We are specifying a variable, i.e., an identifier `x`, which will reference some part of the computer’s memory, and in that segment of computer memory, store the integer value `100`.\n",
    "\n",
    "Essentially, the assignment statement does 3 things:\n",
    "\n",
    "1. Stores the variable identifier in an identifier table\n",
    "2. Allocates computer memory for the storage of the data type value specified; the memory allocated will correspond to some specific location in memory - i.e., a memory address\n",
    "3. Links the variable identifier to the computer memory location\n",
    "\n",
    "In this manner, whenever the variable is used, the computer knows that we are referring to the value that is stored in the associated location in computer memory.\n",
    "\n",
    "Assignment also allows programmers to:\n",
    "\n",
    "1. Assign new values to a variable\n",
    "2. Copy variable values\n",
    "3. Swap values between variables\n",
    "\n",
    "It should also be noted that when assigning a value, that value may be computed using expressions consisting of arithmetic, logical, comparison and/or string operations. For example:\n",
    "\n",
    ">```python\n",
    ">x ← 10 + 20\n",
    ">```\n",
    "\n",
    "Such expressions can, and or course, often do include the specification of other variables. For example:\n",
    "\n",
    ">```python\n",
    ">result ← a*x**2 + b*x + c\n",
    ">```\n",
    "\n",
    "In Python, the assignment operator is `=` , which should not be confused with the equal sign $=$ from mathematics.\n",
    "\n",
    "In Python, we can do multivariable assignment in a single line too. Example:\n",
    ">```python\n",
    "> a,b = 10, 20\n",
    ">```\n",
    "\n",
    "Variables must be **initialised** (i.e. assigned with a value) before use.\n",
    "\n",
    "User can define variable names on their own. However, there are certain restrictions.\n",
    "1. variable name can **only** contain following characters:\n",
    "    * letters either in lowercase (`a` to `z`) or uppercase (`A` to `Z`)\n",
    "    * digits (`0` to `9`)\n",
    "    * underscore (`_`)\n",
    "2. variable name **cannot** begin with digits.\n",
    "3. Python **keywords** are reserved thus shall not be used. (See below)\n",
    "4. Do not use double-underscores `__` as the leading and trailing character in an identifier (Python built-in types already use this notation).\n",
    "5. Use underscore `_` to join multiple words to form a sensible name.\n",
    "\n",
    "For now, we are concerned only with numeric and alphabetical values. Declaring integer values in Python is quite straightforward, you just type the character keys on your keyboard. However, the alphabetical values, termed **strings** in Python are declared by enclosing the alphabets or characters within single quotation marks `''` or `\"\"`."
   ]
  },
  {
   "cell_type": "markdown",
   "id": "5a1061b3",
   "metadata": {},
   "source": [
    "#### Example 0.4\n",
    "\n",
    "Run the code cell below."
   ]
  },
  {
   "cell_type": "code",
   "execution_count": 1,
   "id": "f5cda116",
   "metadata": {},
   "outputs": [
    {
     "name": "stdout",
     "output_type": "stream",
     "text": [
      "2 - 3 = -1\n"
     ]
    }
   ],
   "source": [
    "a = 2\n",
    "m = '-'\n",
    "b = 3\n",
    "e = '='\n",
    "result = a - b\n",
    "print(a , m , b , e , result)"
   ]
  },
  {
   "cell_type": "markdown",
   "id": "77380697",
   "metadata": {},
   "source": [
    "#### Example 0.5\n",
    "\n",
    "Run each of the code cells below."
   ]
  },
  {
   "cell_type": "code",
   "execution_count": null,
   "id": "609c1d39",
   "metadata": {},
   "outputs": [],
   "source": [
    "x = 2\n",
    "print(x)\n",
    "\n",
    "x = x + 1\n",
    "print(x)"
   ]
  },
  {
   "cell_type": "code",
   "execution_count": null,
   "id": "6eb0bf78",
   "metadata": {},
   "outputs": [],
   "source": [
    "teacher1 = \"Mr Tan\"\n",
    "teacher2 = \"Mr Kwek\"\n",
    "\n",
    "teacher1 = teacher2\n",
    "teacher2 = teacher1\n",
    "\n",
    "print(teacher1)\n",
    "print(teacher2)"
   ]
  },
  {
   "cell_type": "markdown",
   "id": "7f796815",
   "metadata": {},
   "source": [
    "Values stored in variables are reset in **Example 0.5**.\n"
   ]
  },
  {
   "cell_type": "markdown",
   "id": "01c3901a",
   "metadata": {},
   "source": [
    "#### Example 0.6\n",
    "\n",
    "Determine which of the following statements are acceptable. Test your guesses by running **each line** in the code cell below.\n",
    "\n",
    "```python\n",
    "message = 'hello'\n",
    "\n",
    "_message1 = 'again'\n",
    "\n",
    "1message = 'failed'\n",
    "\n",
    "message@ = 'not allowed'\n",
    "\n",
    "pass = 60\n",
    "```"
   ]
  },
  {
   "cell_type": "code",
   "execution_count": 6,
   "id": "8cb4ac3e",
   "metadata": {},
   "outputs": [],
   "source": [
    "# Test your guesses here\n"
   ]
  },
  {
   "cell_type": "markdown",
   "id": "0ec3c4b1",
   "metadata": {},
   "source": [
    "Run the following code cell to see the list of keywords in Python:"
   ]
  },
  {
   "cell_type": "code",
   "execution_count": null,
   "id": "ef4f1cd8",
   "metadata": {},
   "outputs": [],
   "source": [
    "import keyword\n",
    "print(keyword.kwlist)"
   ]
  },
  {
   "cell_type": "markdown",
   "id": "de377273",
   "metadata": {},
   "source": [
    "# 0.5 Making Your Codes More Readable"
   ]
  },
  {
   "cell_type": "markdown",
   "id": "88fe1d19",
   "metadata": {},
   "source": [
    "#### Example 0.7\n",
    "\n",
    "The two code blocks below do the same thing. However, the latter code block has variable names that are more descriptive than the earlier one. \n",
    "\n",
    "Furthermore, the second code block makes use of **comments**. \n",
    "\n",
    "Comments are non-executable part of the code.\n",
    "* They are commonly used in codes for documentation.\n",
    "* Writing comments is a good programming practice.\n",
    "* Every line of comment in Python must begin with a `#` character.\n",
    "* Comment must be at the same indent level as the code beneath it.\n",
    "* In-line comments are comments behind a statement.\n",
    "\n",
    "Therefore, when you code, try to make it readable such that your code can be understood easily by others and even yourself. (Trust us, when you review, you'd rather read your own solution that's legible.)"
   ]
  },
  {
   "cell_type": "code",
   "execution_count": null,
   "id": "66ebf1ea",
   "metadata": {},
   "outputs": [],
   "source": [
    "a = 120\n",
    "b = []\n",
    "for c in range(1, a+1):\n",
    "    if a % c == 0:\n",
    "        b.append(c)\n",
    "print(b)"
   ]
  },
  {
   "cell_type": "code",
   "execution_count": null,
   "id": "7bd8774a",
   "metadata": {},
   "outputs": [],
   "source": [
    "number = 120\n",
    "factors = []\n",
    "\n",
    "# testing all the possible factors from 1 to number\n",
    "for a_possible_factor in range(1, number + 1):\n",
    "\n",
    "    # testing whether the remainder is 0 when the number is divided by a possible factor\n",
    "    if number % a_possible_factor == 0:\n",
    "        factors.append(a_possible_factor)\n",
    "\n",
    "print(factors)"
   ]
  },
  {
   "cell_type": "markdown",
   "id": "a2d1deab",
   "metadata": {},
   "source": [
    "#### Example 0.8\n",
    "\n",
    "Rename the variables `a`, `b` and `c` in the code cell below.\n",
    "\n",
    "```python\n",
    "a = 178 #height of a person in cm\n",
    "b = \"National Junior College\"\n",
    "c = 36.5 #body temperature in degree celcius\n",
    "```"
   ]
  },
  {
   "cell_type": "code",
   "execution_count": null,
   "id": "2ae71ec4",
   "metadata": {},
   "outputs": [],
   "source": [
    "a = 178 #height of a person in cm\n",
    "b = \"National Junior College\"\n",
    "c = 36.5 #body temperature in degree celcius"
   ]
  },
  {
   "cell_type": "markdown",
   "id": "f9d44415",
   "metadata": {},
   "source": [
    "#### Example 0.9\n",
    "\n",
    "Run the code cell below."
   ]
  },
  {
   "cell_type": "code",
   "execution_count": null,
   "id": "a82b8732",
   "metadata": {},
   "outputs": [],
   "source": [
    "pi = 3.1416 # corrected to 4 decimal places\n",
    "\n",
    "radius = 2\n",
    "# the next line is a comment\n",
    "# radius = 1\n",
    "\n",
    "# finding area of circle\n",
    "area_circle = pi * radius * radius\n",
    "\n",
    "print(area_circle)"
   ]
  },
  {
   "cell_type": "markdown",
   "id": "59b1bdd8",
   "metadata": {},
   "source": [
    "# 0.6 Line Continuation"
   ]
  },
  {
   "cell_type": "markdown",
   "id": "3be735ff",
   "metadata": {},
   "source": [
    "Run the code cell below."
   ]
  },
  {
   "cell_type": "code",
   "execution_count": null,
   "id": "2a5006f6",
   "metadata": {},
   "outputs": [],
   "source": [
    "radius = 2\n",
    "pi = 3.1416\n",
    "msg = \"A circle of radius \" + str(radius) + \" has a circumference \" + str(2 * pi * radius) + \" and an area \" + str(pi * radius * radius) + \".\"\n",
    "print(msg)"
   ]
  },
  {
   "cell_type": "markdown",
   "id": "720bc40b",
   "metadata": {},
   "source": [
    "To make such code more readable, we may extend the statement over to multiple lines."
   ]
  },
  {
   "cell_type": "markdown",
   "id": "0e4a6466",
   "metadata": {},
   "source": [
    "## 0.6.1 Explicit Line Continuation"
   ]
  },
  {
   "cell_type": "markdown",
   "id": "cb124c6c",
   "metadata": {},
   "source": [
    "#### Example 0.10\n",
    "\n",
    "Run each of the code cells below."
   ]
  },
  {
   "cell_type": "code",
   "execution_count": null,
   "id": "4f125744",
   "metadata": {},
   "outputs": [],
   "source": [
    "radius = 2\n",
    "pi = 3.1416\n",
    "msg = \"A circle of radius \" + \n",
    "    str(radius) +\n",
    "    \" has a circumference \" +\n",
    "    str(2 * pi * radius) +\n",
    "    \" and an area \" +\n",
    "    str(pi * radius * radius) + \".\"\n",
    "print(msg)"
   ]
  },
  {
   "cell_type": "code",
   "execution_count": null,
   "id": "f3d51dfa",
   "metadata": {},
   "outputs": [],
   "source": [
    "radius = 2\n",
    "pi = 3.1416\n",
    "msg = \"A circle of radius \" + \\\n",
    "    str(radius) + \\\n",
    "    \" has a circumference \" + \\\n",
    "    str(2 * pi * radius) + \\\n",
    "    \" and an area \" + \\\n",
    "    str(pi * radius * radius) + \".\"\n",
    "print(msg)"
   ]
  },
  {
   "cell_type": "markdown",
   "id": "c5a9fa48",
   "metadata": {},
   "source": [
    "A statement can be extended over to multiple lines using the line continuation character `\\`."
   ]
  },
  {
   "cell_type": "markdown",
   "id": "c46b182e",
   "metadata": {},
   "source": [
    "## 0.6.2 Implicit Line Continuation"
   ]
  },
  {
   "cell_type": "markdown",
   "id": "35ef5e7a",
   "metadata": {},
   "source": [
    "**Example 0.11**\n",
    "\n",
    "Run the code cell below."
   ]
  },
  {
   "cell_type": "code",
   "execution_count": null,
   "id": "f9310331",
   "metadata": {},
   "outputs": [],
   "source": [
    "radius = 2\n",
    "pi = 3.1416\n",
    "msg = (\"A circle of radius \" + \n",
    "    str(radius) +\n",
    "    \" has a circumference \" +\n",
    "    str(2 * pi * radius) +\n",
    "    \" and an area \" +\n",
    "    str(pi * radius * radius) + \".\")\n",
    "print(msg)"
   ]
  },
  {
   "cell_type": "markdown",
   "id": "d608b1d3",
   "metadata": {},
   "source": [
    "If a statement contains either of parentheses `( )` , brackets `[ ]` and braces `{ }` , Python interpreter will automatically detect the line continuation."
   ]
  }
 ],
 "metadata": {
  "kernelspec": {
   "display_name": "Python 3 (ipykernel)",
   "language": "python",
   "name": "python3"
  },
  "language_info": {
   "codemirror_mode": {
    "name": "ipython",
    "version": 3
   },
   "file_extension": ".py",
   "mimetype": "text/x-python",
   "name": "python",
   "nbconvert_exporter": "python",
   "pygments_lexer": "ipython3",
   "version": "3.6.4"
  }
 },
 "nbformat": 4,
 "nbformat_minor": 5
}
