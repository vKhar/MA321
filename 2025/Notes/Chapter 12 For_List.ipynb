{
 "cells": [
  {
   "cell_type": "markdown",
   "id": "82575371",
   "metadata": {},
   "source": [
    "# Learning Objectives\n",
    "\n",
    "- Python Iterables/Iterators\n",
    "- For loop \n",
    "- Python List\n"
   ]
  },
  {
   "cell_type": "markdown",
   "id": "027d058a",
   "metadata": {},
   "source": [
    "## 12.1 Iterables/Iterators\n",
    "\n",
    "\n",
    "An iterable is any Python object/data type that can be looped over with a **for loop** -  that is able to yield their contents one item at a time.\"\n",
    "\n",
    "- string\n",
    "- list\n",
    "- range\n",
    "\n",
    "--(Not covered)--\n",
    "- tuple\n",
    "- dictionary\n",
    "- set"
   ]
  },
  {
   "cell_type": "markdown",
   "id": "16b424ae",
   "metadata": {},
   "source": [
    "### 12.1.1 Iterating over a string object using indices\n",
    "\n",
    "- Recall that a string is a sequence of characters, E.g.  `\"I love Python!\"`\n",
    "- the characters are ordered from left to right and can be accessed uisng an index starting at 0, or slices"
   ]
  },
  {
   "cell_type": "code",
   "execution_count": null,
   "id": "e82632e0",
   "metadata": {},
   "outputs": [],
   "source": [
    "## Example 12.1\n",
    "s = \"I love Python!\"\n",
    "\n",
    "# access a single character\n",
    "print(s[7])\n",
    "\n",
    "\n",
    "# access a sub-string using a slice\n",
    "print(s[2:6])\n",
    "\n",
    "# Using a while loop to access each character and prints each character in both lowercase and uppercase\n",
    "# outputs iI  lLoOvVeE  pPyYtThHoOnN!!\n",
    "index = 0\n",
    "while index < len(s):\n",
    "    print(s[index].lower()+s[index].upper(),end=\"\")\n",
    "    index = index+1\n",
    "print()"
   ]
  },
  {
   "cell_type": "markdown",
   "id": "66a5082d",
   "metadata": {},
   "source": [
    "### 12.1.2 Using a for-loop\n",
    "***Syntax***\n",
    "```text\n",
    "for an_iterating_variable in an_iterable :\n",
    "    \n",
    "    <statements in the body of the for-loop until the entire iterable is exhausted>\n",
    "    \n",
    "<statements after the loop>\n",
    "```"
   ]
  },
  {
   "cell_type": "code",
   "execution_count": null,
   "id": "39ae426c",
   "metadata": {},
   "outputs": [],
   "source": [
    "## Example 12.1.2\n",
    "s = \"I love Python!\"\n",
    "for char in s:\n",
    "    print(char.lower()+char.upper(),end=\"\")\n",
    "print()"
   ]
  },
  {
   "cell_type": "markdown",
   "id": "ed8c2db3",
   "metadata": {},
   "source": [
    "#### Exercise 12.1\n",
    "\n",
    "Write a function `count_vowels()` which\n",
    "- takes in a string;\n",
    "- returns the total number of vowels in the string (including both upper and lower cases).\n",
    "\n",
    "Use a `for`-loop instead of other methods for this example.\n",
    "\n",
    "*Test cases:*\n",
    "- `count_vowels(\"Python\")` should return `1`\n",
    "- `count_vowels(\"I love Python!\")` should return `4`\n",
    "- `count_vowels(\"Computational Thinking is cool!\")` should return `11`"
   ]
  },
  {
   "cell_type": "code",
   "execution_count": null,
   "id": "b2914e36",
   "metadata": {},
   "outputs": [],
   "source": [
    "## Complete the code \n",
    "def count_vowels(s):\n",
    "    count = 0\n",
    "    for char in s:\n",
    "        if char.lower() in \"aeiou\":\n",
    "            count+=1\n",
    "    return count\n"
   ]
  },
  {
   "cell_type": "code",
   "execution_count": null,
   "id": "dc49e6d7",
   "metadata": {},
   "outputs": [],
   "source": [
    "## Run the Test cases to test your code\n",
    "print(\n",
    "count_vowels(\"Python\"),\n",
    "count_vowels(\"I love Python!\"),\n",
    "count_vowels(\"Computational Thinking is cool!\")\n",
    ")"
   ]
  },
  {
   "cell_type": "markdown",
   "id": "d0ac2bb1",
   "metadata": {},
   "source": [
    "---\n",
    "## 12.2  List (`list`) as a Data Type\n",
    "Lists are used to store multiple items(objects) which can be of different types in a single variable.\n",
    "\n",
    "Lists are created using square brackets. Run the code cells below."
   ]
  },
  {
   "cell_type": "code",
   "execution_count": null,
   "id": "04440f2a",
   "metadata": {},
   "outputs": [],
   "source": [
    "fruitlist = [\"apple\", \"banana\", \"cherry\", \"durian\"]\n",
    "primelist = [2, 3, 5, 7, 11, 13, 17, 19]\n",
    "combine_list = [\"apple\", 5, 7.01, primelist ]\n",
    "print(fruitlist)\n",
    "print(len(fruitlist)) ## len() returns the number of items in list"
   ]
  },
  {
   "cell_type": "markdown",
   "id": "15eea585",
   "metadata": {},
   "source": [
    "### 12.2.1 List Items are Ordered\n",
    "List items are **ordered (indexed)**, similar to the characters in a string.\n",
    "\n",
    "The first item has index `[0]`, the second item has index `[1]` etc. Alternatively, the last item has index `[-1]`, the second last item has index `[-2]` etc.\n",
    "\n"
   ]
  },
  {
   "cell_type": "code",
   "execution_count": null,
   "id": "93c34c2c",
   "metadata": {},
   "outputs": [],
   "source": [
    "## Example 12.2.1\n",
    "\n",
    "# access a single item\n",
    "print(fruitlist[3])\n",
    "\n",
    "# access a sub-list using a slice\n",
    "print(fruitlist[1:-1])\n",
    "\n",
    "# Using a while loop to access each item in the list  and prints each item in lowercase\n",
    "index = 0\n",
    "while index < len(fruitlist):\n",
    "    print(fruitlist[index].lower(), end=\",\")\n",
    "    index = index+1\n",
    "print()\n",
    "\n",
    "## Using a for-loop\"\n",
    "for fruit in fruitlist:\n",
    "    print(fruit.lower(), end=\",\")\n"
   ]
  },
  {
   "cell_type": "markdown",
   "id": "1f53045a",
   "metadata": {},
   "source": [
    "### 12.2.2 Lists are Mutable\n",
    "Unlike strings, list are **mutable**. In other words, we are able to \n",
    "- modify\n",
    "- add\n",
    "- remove \n",
    "items in the list\n",
    "\n",
    "Run the code cells to observe the difference."
   ]
  },
  {
   "cell_type": "code",
   "execution_count": null,
   "id": "5bd11916",
   "metadata": {},
   "outputs": [],
   "source": [
    "### Example 12.2.2\n",
    "\n",
    "## modifying an item\n",
    "fruitlist = [\"apple\", \"banana\", \"cherry\", \"durian\"]\n",
    "fruitlist[1] =\"mango\"\n",
    "print(fruitlist)\n",
    "\n",
    "## Swapping the first an last item\n",
    "pass\n",
    "print(fruitlist)"
   ]
  },
  {
   "cell_type": "code",
   "execution_count": null,
   "id": "3e35dd9f",
   "metadata": {},
   "outputs": [],
   "source": [
    "## adding an item\n",
    "\n",
    "fruitlist = [\"apple\", \"banana\", \"cherry\", \"durian\"]\n",
    "## using append\n",
    "# fruitlist.append(\"mango\")\n",
    "\n",
    "## using extend\n",
    "# fruitlist.extend([\"orange\",\"pear\"])\n",
    "\n",
    "## using insert\n",
    "fruitlist.insert(2,\"xx\")\n",
    "\n",
    "print(fruitlist)"
   ]
  },
  {
   "cell_type": "code",
   "execution_count": null,
   "id": "1bf70489",
   "metadata": {},
   "outputs": [],
   "source": [
    "## removng an item\n",
    "\n",
    "fruitlist = [\"apple\", \"banana\", \"cherry\", \"durian\"]\n",
    "\n",
    "## using pop(index)\n",
    "# fruitlist.pop(0)\n",
    "\n",
    "## using remove(item)\n",
    "fruitlist.remove(\"cherry\")\n",
    "print(fruitlist)"
   ]
  },
  {
   "cell_type": "markdown",
   "id": "abd9cbc4",
   "metadata": {},
   "source": [
    "### 12.2.3 List methods\n",
    "Unlike string methods, most of the list methods will change the list when used. The list of built-in methods for lists are as follows. To display this list in Python, simply run `help(str)`.\n",
    "\n",
    "**Method**| **Description**\n",
    ":---------| :-|\n",
    "`append()`  | Adds an element at the end of the list, returns `None`\n",
    "`clear()`   | Removes all the elements from the list, returns `None`\n",
    "`copy()`\t  | Does not change the list, returns a copy of the list\n",
    "`count()`   | Does not change the list, returns the number of elements with the specified value\n",
    "`extend()`  | Add the elements of a list (or any iterable) to the end of the current list, returns `None`\n",
    "`index()`\t  | Does not change the list, returns the index of the first element with the specified value\n",
    "`insert()`  | Adds an element at the specified position, returns `None`\n",
    "`pop()`     | Removes the element at the specified position, returns the element removed\n",
    "`remove()`  | Removes the first item with the specified value, returns `None`\n",
    "`reverse()` | Reverses the order of the list, returns `None`\n",
    "`sort()`    | Sorts the list, returns `None`\n"
   ]
  },
  {
   "cell_type": "markdown",
   "id": "e25b8e59",
   "metadata": {},
   "source": [
    "#### Exercise 12.2\n",
    "\n",
    "Write a program which\n",
    "- continuously prompts the user to input his/her top few choices of food ,\n",
    "- stores the food choices entered in the input into a list\n",
    "- print the list in **alphabetical order** containing all the entries after the user input an empty string.\n",
    "\n",
    "*Sample Test:*\n",
    "```text\n",
    "Food choice: Beef noodle\n",
    "Food choice: Steam boat\n",
    "Food choice: Fried Rice\n",
    "Food choice: BBQ\n",
    "Food choice: \n",
    "['BBQ','Beef noodle', 'Fried Rice', 'Steam boat']\n",
    "```"
   ]
  },
  {
   "cell_type": "code",
   "execution_count": null,
   "id": "c63a85e2",
   "metadata": {},
   "outputs": [],
   "source": [
    "food_list = []\n",
    "while True:\n",
    "    food = input(\"Enter food\")\n",
    "    if food == \"\":\n",
    "        break\n",
    "    else:\n",
    "        food_list.append(food)\n",
    "food_list.sort()\n",
    "print(food_list)\n"
   ]
  },
  {
   "cell_type": "markdown",
   "id": "6320e644",
   "metadata": {},
   "source": [
    "## 12.3 Built-in Funtions that perform an aggregation on iterators\n",
    "```\n",
    "- len(), returns the number of items in iterables\n",
    "- max(), returns the max value\n",
    "- min(), returns the min\n",
    "- sum(), the arithmatic sum\n",
    "```"
   ]
  },
  {
   "cell_type": "code",
   "execution_count": null,
   "id": "3e37d6ce",
   "metadata": {},
   "outputs": [],
   "source": [
    "##\n",
    "L = [1,2.3,8]\n",
    "len(L)\n",
    "min(L)"
   ]
  },
  {
   "cell_type": "markdown",
   "id": "41fc8a9a",
   "metadata": {},
   "source": [
    "#### Exercise 12.3.1\n",
    "\n",
    "Write a function `longest_str()` which\n",
    "- takes a non-empty list of strings,\n",
    "- return the longest string (you may return any of the longest strings if the answer is not unique).\n",
    "\n",
    "*Test Cases:*\n",
    "```text\n",
    "> longest_str([\"a c\", \"de\", \"f\"])\n",
    "'a c'`\n",
    "\n",
    "> longest_str([\"long\", \"longer\", \"longest\"])\n",
    "'longest'`\n",
    "```"
   ]
  },
  {
   "cell_type": "code",
   "execution_count": null,
   "id": "bfecfdff",
   "metadata": {},
   "outputs": [],
   "source": [
    "def longest_str(L):\n",
    "    ret=\"\"\n",
    "    for s in L:\n",
    "        if len(s) > len(ret):\n",
    "            ret = s\n",
    "    return ret\n",
    "print(\n",
    "longest_str([\"a c\", \"de\", \"f\"]),\n",
    "longest_str([\"long\", \"longer\", \"longest\"]), sep=\"\\n\")"
   ]
  },
  {
   "cell_type": "code",
   "execution_count": null,
   "id": "04c229c4",
   "metadata": {},
   "outputs": [],
   "source": [
    "def longest_str(L):\n",
    "    str_len = [ len(s) for s in L] \n",
    "    return L [str_len.index(max(str_len))]\n",
    "\n",
    "print(\n",
    "longest_str([\"a c\", \"de\", \"f\"]),\n",
    "longest_str([\"long\", \"longer\", \"longest\"]), sep=\"\\n\")"
   ]
  },
  {
   "cell_type": "markdown",
   "id": "abec6eaf",
   "metadata": {},
   "source": [
    "#### Exercise 12.3.2\n",
    "\n",
    "Write a function `int_list()` which\n",
    "- takes in a list,\n",
    "- return a list containing only the `int` data type items\n",
    "\n",
    "*Test Cases:*\n",
    "```text\n",
    "> int_list([1, \"2\", 3.0])\n",
    "[1]\n",
    "\n",
    "> int_list([-1, 2022, 2])\n",
    "[-1, 2022, 2]\n",
    "\n",
    "> int_list([\"\", \"b\", \"2022\", 0.1])\n",
    "[]\n",
    "``` "
   ]
  },
  {
   "cell_type": "code",
   "execution_count": null,
   "id": "e5dbef65",
   "metadata": {},
   "outputs": [],
   "source": [
    "def int_list(L):\n",
    "    int_list=[]\n",
    "    for item in L:\n",
    "        if type(item) == int:\n",
    "            int_list.append(item)\n",
    "    return int_list\n",
    "\n",
    "# def int_list(L): ## cannot mutate inside a for loop\n",
    "#     for i in L:\n",
    "#         if type(i) != int:\n",
    "#             L.remove(i)\n",
    "#     return L"
   ]
  },
  {
   "cell_type": "code",
   "execution_count": null,
   "id": "e9fa3c78",
   "metadata": {},
   "outputs": [],
   "source": [
    "int_list([1, \"2\", 3.0]), int_list([-1, 2022, 2]), int_list([\"\", \"b\", \"2022\", 0.1])"
   ]
  },
  {
   "cell_type": "markdown",
   "id": "b037c85e",
   "metadata": {},
   "source": [
    "## 12.4 **`range()`**\n",
    " is an important function which creates a sequence of numbers.\n",
    "\n",
    "***Syntax***\n",
    "```python\n",
    "range(start = 0, stop, step = 1)\n",
    "```\n",
    "**parameter**| **Description**\n",
    ":---------| :-|\n",
    "`start`     | optional, default starting value is 0\n",
    "`stop`      | required, the ending value **not inclusive**\n",
    "`step`      | optional, default step size is 1"
   ]
  },
  {
   "cell_type": "code",
   "execution_count": null,
   "id": "955b5c9b",
   "metadata": {},
   "outputs": [],
   "source": [
    "## ascending number sequence , 1,2,3,4,..10\n",
    "\n",
    "\n",
    "##descending number sequence, 10,9,8,..1"
   ]
  },
  {
   "cell_type": "code",
   "execution_count": 1,
   "id": "d17c3c2b",
   "metadata": {},
   "outputs": [
    {
     "name": "stdout",
     "output_type": "stream",
     "text": [
      "0,2,4,6,8,10,12,14,16,18,20,22,24,26,28,30,32,34,36,38,40,42,44,46,48,50,52,54,56,58,60,62,64,66,68,70,72,74,76,78,80,82,84,86,88,90,92,94,96,98,"
     ]
    }
   ],
   "source": [
    "### print all the even numbers less than 100\n",
    "for i in range(0,100,2):\n",
    "        print(i, end=\",\")"
   ]
  },
  {
   "cell_type": "markdown",
   "id": "029ac0d9",
   "metadata": {},
   "source": [
    "#### Exercise 12.4.1\n",
    "\n",
    "Write a program to generate the list of positive integers below 100 that are multiples of 7. Print this list.\n"
   ]
  },
  {
   "cell_type": "code",
   "execution_count": 3,
   "id": "53835c6c",
   "metadata": {},
   "outputs": [
    {
     "name": "stdout",
     "output_type": "stream",
     "text": [
      "[7, 14, 21, 28, 35, 42, 49, 56, 63, 70, 77, 84, 91, 98]\n"
     ]
    }
   ],
   "source": [
    "multiples_7 = []\n",
    "for i in range(7,100,7):\n",
    "    multiples_7.append(i)\n",
    "print(multiples_7)\n"
   ]
  },
  {
   "cell_type": "code",
   "execution_count": 4,
   "id": "4f617445",
   "metadata": {},
   "outputs": [
    {
     "data": {
      "text/plain": [
       "[7, 14, 21, 28, 35, 42, 49, 56, 63, 70, 77, 84, 91, 98]"
      ]
     },
     "execution_count": 4,
     "metadata": {},
     "output_type": "execute_result"
    }
   ],
   "source": [
    "[ i for i in range(7,100,7)]"
   ]
  },
  {
   "cell_type": "markdown",
   "id": "899e8ada",
   "metadata": {},
   "source": [
    "#### Exercise 12.4.2\n",
    "\n",
    "Write a function `compare_list()` which\n",
    "- takes in two lists `l1` and `l2` of integers,\n",
    "- creates and returns a new list based on the following rules.\n",
    "    - the first item will be 1, if the first item in `l1` is greater than the first item in `l2`;\n",
    "    - the first item will be -1, if the first item in `l1` is less than the first item in `l2`;\n",
    "    - the first item will be 0, if the first items in the two lists are equal.\n",
    "    - repeats for the second item, third item, ... until the end of the shorter list between `l1` and `l2`.\n",
    "    - ignore the remaining items in the longer list.\n",
    "\n",
    "*Sample Tests:*\n",
    "```text\n",
    "> compare_list([1, 2, 3], [3, 2, 1, 0])\n",
    "[-1, 0, 1]\n",
    "\n",
    "> compare_list([1, 3, 5, 7, 9], [-1, -3])\n",
    "[1, 1]\n",
    "\n",
    "> compare_list([5, 5], [5])\n",
    "[0]\n",
    "```"
   ]
  },
  {
   "cell_type": "code",
   "execution_count": null,
   "id": "7e63bedf",
   "metadata": {},
   "outputs": [],
   "source": [
    "def compare_list( L1, L2):\n",
    "    ret=[]\n",
    "    for i in range( len( min(L1,L2))):\n",
    "        if L1[i]<L2[i]:\n",
    "            ret.append(-1)\n",
    "        elif L1[i] > L2[i]:\n",
    "            ret.append(1)\n",
    "        else:\n",
    "            ret.append(0)\n",
    "    return ret\n",
    "\n",
    "print(\n",
    "compare_list([1, 2, 3], [3, 2, 1, 0]),\n",
    "compare_list([1, 3, 5, 7, 9], [-1, -3]),\n",
    "compare_list([5, 5], [5])\n",
    "    \n",
    ")"
   ]
  },
  {
   "cell_type": "markdown",
   "id": "cd5abaf1",
   "metadata": {},
   "source": [
    "## 12.5 Nested List\n",
    "Items in a list can also be lists, making the list a nested list. For example,\n",
    "```python\n",
    "nested_list = [[1, 2], [3, 4, 5], [6]]\n",
    "```\n",
    "`nested_list` has 3 elements, each element is a list:\n",
    "\n",
    "|row/col| 0| 1| 2|\n",
    "|-|- | -| -|\n",
    "|0| 1 | 2 | |\n",
    "|1| 3 | 4 | 5 |\n",
    "|2| 6 | | |\n",
    "\n",
    "```\n",
    "[\n",
    "    [1, 2],     # nested_list[0],\n",
    "    [3, 4, 5],  # nested_list[1]\n",
    "    [6]         # nested_list[2]\n",
    "]\n",
    "```\n",
    "To access the integer 4, we use `nested_list[1][1]`\n"
   ]
  },
  {
   "cell_type": "code",
   "execution_count": 5,
   "id": "f08835cb",
   "metadata": {},
   "outputs": [
    {
     "name": "stdout",
     "output_type": "stream",
     "text": [
      "[3, 4, 5]\n",
      "4\n"
     ]
    }
   ],
   "source": [
    "nested_list = [[1, 2], [3, 4, 5], [6]]\n",
    "print(nested_list[1])\n",
    "print(nested_list[1][1])"
   ]
  },
  {
   "cell_type": "code",
   "execution_count": 7,
   "id": "9086495c",
   "metadata": {},
   "outputs": [
    {
     "name": "stdout",
     "output_type": "stream",
     "text": [
      "1,2,\n",
      "3,4,5,\n",
      "6,\n"
     ]
    }
   ],
   "source": [
    "'''\n",
    "Exammple 12.5 : Print the values in the list row by row:\n",
    "outputs:\n",
    "1,2\n",
    "3,4,5\n",
    "6\n",
    "'''\n",
    "\n",
    "# Outer for loop for number of rows\n",
    "for item in nested_list:  \n",
    "    # Inner for loop for number of columns\n",
    "    for i in item:\n",
    "        print( i, end=\",\")\n",
    "    print()\n"
   ]
  },
  {
   "cell_type": "markdown",
   "id": "346989f7",
   "metadata": {},
   "source": [
    "#### Exercise 12.5\n",
    "\n",
    "Write a function `search()` which\n",
    "- takes in the list `name_height_mass` and a string representing a name,\n",
    "- returns the list containing the name, height and mass of the student if the name (case-sensitive) can be found; returns `False` otherwise.\n",
    "\n",
    "*Test Cases:*\n",
    "```text\n",
    "> search(name_height_mass, \"Bob\")\n",
    "['Bob', 1.71, 62.9]\n",
    "\n",
    "> search(name_height_mass, \"James\")\n",
    "False\n",
    "\n",
    "> search(name_height_mass, \"deon\")\n",
    "False\n",
    "```\n"
   ]
  },
  {
   "cell_type": "code",
   "execution_count": null,
   "id": "081b46c5",
   "metadata": {},
   "outputs": [],
   "source": [
    "name_height_mass = [\n",
    "    [\"Alex\", 1.78, 76.2],\n",
    "    [\"Bob\", 1.71, 62.9],\n",
    "    [\"Charmaine\", 1.59, 41.1],\n",
    "    [\"Deon\", 1.64, 49.8],\n",
    "    [\"Elizabeth\", 1.55, 42.2],\n",
    "    [\"Felix\", 1.88, 94.1],\n",
    "    [\"Grace\", 1.58, 39.5],\n",
    "    [\"Harrison\", 1.77, 72.1],\n",
    "    [\"Isabella\", 1.6, 47.8],\n",
    "    [\"Joshua\", 1.66, 51.2]\n",
    "]"
   ]
  },
  {
   "cell_type": "code",
   "execution_count": null,
   "id": "f28bcf67",
   "metadata": {},
   "outputs": [],
   "source": [
    "def search( table, name):\n",
    "    for row in table:\n",
    "        if row[0]  == name:\n",
    "            return row\n",
    "    return False"
   ]
  },
  {
   "cell_type": "code",
   "execution_count": null,
   "id": "2eaf2782",
   "metadata": {},
   "outputs": [],
   "source": [
    "print(\n",
    "search(name_height_mass, \"Bob\"),\n",
    "search(name_height_mass, \"James\"),\n",
    "search(name_height_mass, \"deon\")\n",
    ")\n"
   ]
  }
 ],
 "metadata": {
  "kernelspec": {
   "display_name": "python12",
   "language": "python",
   "name": "python3"
  },
  "language_info": {
   "codemirror_mode": {
    "name": "ipython",
    "version": 3
   },
   "file_extension": ".py",
   "mimetype": "text/x-python",
   "name": "python",
   "nbconvert_exporter": "python",
   "pygments_lexer": "ipython3",
   "version": "3.12.0"
  }
 },
 "nbformat": 4,
 "nbformat_minor": 5
}
