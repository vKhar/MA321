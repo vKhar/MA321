{
  "cells": [
    {
      "cell_type": "markdown",
      "metadata": {
        "id": "view-in-github",
        "colab_type": "text"
      },
      "source": [
        "<a href=\"https://colab.research.google.com/github/vKhar/MA321/blob/Chapter10_11_Combine/2025/Notes/Chapter%2012%20For_List.ipynb\" target=\"_parent\"><img src=\"https://colab.research.google.com/assets/colab-badge.svg\" alt=\"Open In Colab\"/></a>"
      ]
    },
    {
      "cell_type": "markdown",
      "id": "82575371",
      "metadata": {
        "id": "82575371"
      },
      "source": [
        "# Learning Objectives\n",
        "\n",
        "- Python Iterables/Iterators\n",
        "- For loop\n",
        "- Python List\n"
      ]
    },
    {
      "cell_type": "markdown",
      "id": "027d058a",
      "metadata": {
        "id": "027d058a"
      },
      "source": [
        "## 12.1 Iterables/Iterators\n",
        "\n",
        "\n",
        "An iterable is any Python object/data type that can be looped over with a **for loop** -  that is able to yield their contents one item at a time.\"\n",
        "\n",
        "- string\n",
        "- list\n",
        "- range\n",
        "\n",
        "--(Not covered)--\n",
        "- tuple\n",
        "- dictionary\n",
        "- set"
      ]
    },
    {
      "cell_type": "markdown",
      "id": "16b424ae",
      "metadata": {
        "id": "16b424ae"
      },
      "source": [
        "### 12.1.1 Iterating over a string object using indices\n",
        "\n",
        "- Recall that a string is a sequence of characters, E.g.  `\"I love Python!\"`\n",
        "- the characters are ordered from left to right and can be accessed uisng an index starting at 0, or slices"
      ]
    },
    {
      "cell_type": "code",
      "execution_count": null,
      "id": "e82632e0",
      "metadata": {
        "id": "e82632e0"
      },
      "outputs": [],
      "source": [
        "## Example 12.1\n",
        "s = \"I love Python!\"\n",
        "\n",
        "# access a single character\n",
        "pass\n",
        "\n",
        "\n",
        "# access a sub-string using a slice\n",
        "pass\n",
        "\n",
        "# Using a while loop to access each character and prints each character in both lowercase and uppercase\n",
        "# outputs iI  lLoOvVeE  pPyYtThHoOnN!!\n",
        "pass"
      ]
    },
    {
      "cell_type": "markdown",
      "id": "66a5082d",
      "metadata": {
        "id": "66a5082d"
      },
      "source": [
        "### 12.1.2 Using a for-loop\n",
        "***Syntax***\n",
        "```text\n",
        "for an_iterating_variable in an_iterable :\n",
        "    \n",
        "    <statements in the body of the for-loop until the entire iterable is exhausted>\n",
        "    \n",
        "<statements after the loop>\n",
        "```"
      ]
    },
    {
      "cell_type": "code",
      "execution_count": null,
      "id": "39ae426c",
      "metadata": {
        "id": "39ae426c"
      },
      "outputs": [],
      "source": [
        "## Example 12.1.2\n",
        "s = \"I love Python!\"\n",
        "pass"
      ]
    },
    {
      "cell_type": "markdown",
      "id": "ed8c2db3",
      "metadata": {
        "id": "ed8c2db3"
      },
      "source": [
        "#### Exercise 12.1\n",
        "\n",
        "Write a function `count_vowels()` which\n",
        "- takes in a string;\n",
        "- returns the total number of vowels in the string (including both upper and lower cases).\n",
        "\n",
        "Use a `for`-loop instead of other methods for this example.\n",
        "\n",
        "*Test cases:*\n",
        "- `count_vowels(\"Python\")` should return `1`\n",
        "- `count_vowels(\"I love Python!\")` should return `4`\n",
        "- `count_vowels(\"Computational Thinking is cool!\")` should return `11`"
      ]
    },
    {
      "cell_type": "code",
      "execution_count": null,
      "id": "b2914e36",
      "metadata": {
        "id": "b2914e36"
      },
      "outputs": [],
      "source": [
        "## Complete the code\n",
        "\n"
      ]
    },
    {
      "cell_type": "code",
      "execution_count": null,
      "id": "dc49e6d7",
      "metadata": {
        "id": "dc49e6d7"
      },
      "outputs": [],
      "source": [
        "## Run the Test cases below to test your code\n",
        "print(\n",
        "count_vowels(\"Python\"),\n",
        "count_vowels(\"I love Python!\"),\n",
        "count_vowels(\"Computational Thinking is cool!\")\n",
        ")"
      ]
    },
    {
      "cell_type": "markdown",
      "id": "d0ac2bb1",
      "metadata": {
        "id": "d0ac2bb1"
      },
      "source": [
        "---\n",
        "## 12.2  List (`list`) as a Data Type\n",
        "Lists are used to store multiple items(objects) which can be of different types in a single variable.\n",
        "\n",
        "Lists are created using square brackets. Run the code cells below."
      ]
    },
    {
      "cell_type": "code",
      "execution_count": null,
      "id": "04440f2a",
      "metadata": {
        "id": "04440f2a"
      },
      "outputs": [],
      "source": [
        "fruitlist = [\"apple\", \"banana\", \"cherry\", \"durian\"]\n",
        "primelist = [2, 3, 5, 7, 11, 13, 17, 19]\n",
        "combine_list = [\"apple\", 5, 7.01, primelist ]\n",
        "\n",
        "print(fruitlist)\n",
        "print(len(fruitlist)) ## len() returns the number of items in list"
      ]
    },
    {
      "cell_type": "markdown",
      "id": "15eea585",
      "metadata": {
        "id": "15eea585"
      },
      "source": [
        "### 12.2.1 List Items are Ordered\n",
        "List items are **ordered (indexed)**, similar to the characters in a string.\n",
        "\n",
        "The first item has index `[0]`, the second item has index `[1]` etc. Alternatively, the last item has index `[-1]`, the second last item has index `[-2]` etc.\n",
        "\n"
      ]
    },
    {
      "cell_type": "code",
      "execution_count": null,
      "id": "93c34c2c",
      "metadata": {
        "id": "93c34c2c"
      },
      "outputs": [],
      "source": [
        "## Example 12.2.1\n",
        "\n",
        "# access a single item\n",
        "print(fruitlist[3])\n",
        "\n",
        "# access a sub-list using a slice\n",
        "print(fruitlist[1:-1])\n",
        "\n",
        "# Using a while loop to access each item in the list  and prints each item in lowercase\n",
        "index = 0\n",
        "while index < len(fruitlist):\n",
        "    pass\n",
        "    index = index+1\n",
        "print()\n",
        "\n",
        "## Using a for-loop\"\n",
        "pass\n"
      ]
    },
    {
      "cell_type": "markdown",
      "id": "1f53045a",
      "metadata": {
        "id": "1f53045a"
      },
      "source": [
        "### 12.2.2 Lists are Mutable\n",
        "Unlike strings, list are **mutable**. In other words, we are able to\n",
        "- modify\n",
        "- add\n",
        "- remove\n",
        "items in the list\n",
        "\n",
        "Run the code cells to observe the difference."
      ]
    },
    {
      "cell_type": "code",
      "execution_count": null,
      "id": "5bd11916",
      "metadata": {
        "id": "5bd11916"
      },
      "outputs": [],
      "source": [
        "### Example 12.2.2\n",
        "\n",
        "## modifying an item\n",
        "fruitlist = [\"apple\", \"banana\", \"cherry\", \"durian\"]\n",
        "fruitlist[1] =\"mango\"\n",
        "print(fruitlist)\n",
        "\n",
        "## Swapping the first an last item\n",
        "pass\n",
        "print(fruitlist)"
      ]
    },
    {
      "cell_type": "code",
      "execution_count": null,
      "id": "3e35dd9f",
      "metadata": {
        "id": "3e35dd9f"
      },
      "outputs": [],
      "source": [
        "## adding an item\n",
        "\n",
        "fruitlist = [\"apple\", \"banana\", \"cherry\", \"durian\"]\n",
        "## using append\n",
        "# fruitlist.append(\"mango\")\n",
        "\n",
        "## using extend\n",
        "# fruitlist.extend([\"orange\",\"pear\"])\n",
        "\n",
        "## using insert\n",
        "fruitlist.insert(2,\"xx\")\n",
        "\n",
        "print(fruitlist)"
      ]
    },
    {
      "cell_type": "code",
      "execution_count": null,
      "id": "1bf70489",
      "metadata": {
        "id": "1bf70489"
      },
      "outputs": [],
      "source": [
        "## removng an item\n",
        "\n",
        "fruitlist = [\"apple\", \"banana\", \"cherry\", \"durian\"]\n",
        "\n",
        "## using pop(index)\n",
        "# fruitlist.pop(0)\n",
        "\n",
        "## using remove(item)\n",
        "fruitlist.remove(\"cherry\")\n",
        "print(fruitlist)"
      ]
    },
    {
      "cell_type": "markdown",
      "id": "abd9cbc4",
      "metadata": {
        "id": "abd9cbc4"
      },
      "source": [
        "### 12.2.3 List methods\n",
        "Unlike string methods, most of the list methods will change the list when used. The list of built-in methods for lists are as follows. To display this list in Python, simply run `help(str)`.\n",
        "\n",
        "**Method**| **Description**\n",
        ":---------| :-|\n",
        "`append()`  | Adds an element at the end of the list, returns `None`\n",
        "`clear()`   | Removes all the elements from the list, returns `None`\n",
        "`copy()`\t  | Does not change the list, returns a copy of the list\n",
        "`count()`   | Does not change the list, returns the number of elements with the specified value\n",
        "`extend()`  | Add the elements of a list (or any iterable) to the end of the current list, returns `None`\n",
        "`index()`\t  | Does not change the list, returns the index of the first element with the specified value\n",
        "`insert()`  | Adds an element at the specified position, returns `None`\n",
        "`pop()`     | Removes the element at the specified position, returns the element removed\n",
        "`remove()`  | Removes the first item with the specified value, returns `None`\n",
        "`reverse()` | Reverses the order of the list, returns `None`\n",
        "`sort()`    | Sorts the list, returns `None`\n"
      ]
    },
    {
      "cell_type": "markdown",
      "id": "e25b8e59",
      "metadata": {
        "id": "e25b8e59"
      },
      "source": [
        "#### Exercise 12.2\n",
        "\n",
        "Write a program which\n",
        "- continuously prompts the user to input his/her top few choices of food ,\n",
        "- stores the food choices entered in the input into a list\n",
        "- print the list in **alphabetical order** containing all the entries after the user input an empty string.\n",
        "\n",
        "*Sample Test:*\n",
        "```text\n",
        "Food choice: Beef noodle\n",
        "Food choice: Steam boat\n",
        "Food choice: Fried Rice\n",
        "Food choice: BBQ\n",
        "Food choice:\n",
        "['BBQ','Beef noodle', 'Fried Rice', 'Steam boat']\n",
        "```"
      ]
    },
    {
      "cell_type": "code",
      "execution_count": null,
      "id": "c63a85e2",
      "metadata": {
        "id": "c63a85e2"
      },
      "outputs": [],
      "source": [
        "## Code here\n"
      ]
    },
    {
      "cell_type": "markdown",
      "id": "6320e644",
      "metadata": {
        "id": "6320e644"
      },
      "source": [
        "## 12.3 Built-in Funtions that perform an aggregation on iterators\n",
        "```\n",
        "- len(), returns the number of items in iterables\n",
        "- max(), returns the max value\n",
        "- min(), returns the min\n",
        "- sum(), the arithmatic sum\n",
        "```"
      ]
    },
    {
      "cell_type": "code",
      "execution_count": null,
      "id": "3e37d6ce",
      "metadata": {
        "id": "3e37d6ce"
      },
      "outputs": [],
      "source": [
        "##\n",
        "L = [1,2.3,8]\n",
        "len(L)\n",
        "min(L)"
      ]
    },
    {
      "cell_type": "markdown",
      "id": "41fc8a9a",
      "metadata": {
        "id": "41fc8a9a"
      },
      "source": [
        "#### Exercise 12.3.1\n",
        "\n",
        "Write a function `longest_str()` which\n",
        "- takes a non-empty list of strings,\n",
        "- return the longest string (you may return any of the longest strings if the answer is not unique).\n",
        "\n",
        "*Test Cases:*\n",
        "```text\n",
        "> longest_str([\"a c\", \"de\", \"f\"])\n",
        "'a c'`\n",
        "\n",
        "> longest_str([\"long\", \"longer\", \"longest\"])\n",
        "'longest'`\n",
        "```"
      ]
    },
    {
      "cell_type": "code",
      "execution_count": null,
      "id": "bfecfdff",
      "metadata": {
        "id": "bfecfdff"
      },
      "outputs": [],
      "source": [
        "## Code here"
      ]
    },
    {
      "cell_type": "markdown",
      "id": "abec6eaf",
      "metadata": {
        "id": "abec6eaf"
      },
      "source": [
        "#### Exercise 12.3.2\n",
        "\n",
        "Write a function `int_list()` which\n",
        "- takes in a list,\n",
        "- return a list containing only the `int` data type items\n",
        "\n",
        "*Test Cases:*\n",
        "```text\n",
        "> int_list([1, \"2\", 3.0])\n",
        "[1]\n",
        "\n",
        "> int_list([-1, 2022, 2])\n",
        "[-1, 2022, 2]\n",
        "\n",
        "> int_list([\"\", \"b\", \"2022\", 0.1])\n",
        "[]\n",
        "```"
      ]
    },
    {
      "cell_type": "code",
      "execution_count": null,
      "id": "e5dbef65",
      "metadata": {
        "id": "e5dbef65"
      },
      "outputs": [],
      "source": [
        "## Code here"
      ]
    },
    {
      "cell_type": "code",
      "execution_count": null,
      "id": "e9fa3c78",
      "metadata": {
        "id": "e9fa3c78",
        "outputId": "aa9cf74c-d712-4f14-d82c-4974177896c5"
      },
      "outputs": [
        {
          "name": "stdout",
          "output_type": "stream",
          "text": [
            "[1]\n",
            "[-1, 2022, 2]\n",
            "[]\n"
          ]
        }
      ],
      "source": [
        "## Test cases\n",
        "print(\n",
        "int_list([1, \"2\", 3.0]),\n",
        "int_list([-1, 2022, 2]),\n",
        "int_list([\"\", \"b\", \"2022\", 0.1]),\n",
        "sep=\"\\n\"\n",
        ")"
      ]
    },
    {
      "cell_type": "markdown",
      "id": "b037c85e",
      "metadata": {
        "id": "b037c85e"
      },
      "source": [
        "## 12.4 **`range()`**\n",
        " is an important function which creates a sequence of numbers.\n",
        "\n",
        "***Syntax***\n",
        "```python\n",
        "range(start = 0, stop, step = 1)\n",
        "```\n",
        "**parameter**| **Description**\n",
        ":---------| :-|\n",
        "`start`     | optional, default starting value is 0\n",
        "`stop`      | required, the ending value **not inclusive**\n",
        "`step`      | optional, default step size is 1"
      ]
    },
    {
      "cell_type": "code",
      "execution_count": null,
      "id": "955b5c9b",
      "metadata": {
        "id": "955b5c9b"
      },
      "outputs": [],
      "source": [
        "## ascending number sequence , 1,2,3,4,..10\n",
        "pass\n",
        "\n",
        "##descending number sequence, 10,9,8,..1\n",
        "pass"
      ]
    },
    {
      "cell_type": "code",
      "execution_count": null,
      "id": "d17c3c2b",
      "metadata": {
        "id": "d17c3c2b"
      },
      "outputs": [],
      "source": [
        "### print all the even numbers less than 100\n",
        "pass"
      ]
    },
    {
      "cell_type": "markdown",
      "id": "029ac0d9",
      "metadata": {
        "id": "029ac0d9"
      },
      "source": [
        "#### Exercise 12.4.1\n",
        "\n",
        "Write a program to generate the list of positive integers below 100 that are multiples of 7. Print this list.\n"
      ]
    },
    {
      "cell_type": "code",
      "execution_count": null,
      "id": "53835c6c",
      "metadata": {
        "id": "53835c6c"
      },
      "outputs": [],
      "source": [
        "## Code here\n"
      ]
    },
    {
      "cell_type": "markdown",
      "id": "899e8ada",
      "metadata": {
        "id": "899e8ada"
      },
      "source": [
        "#### Exercise 12.4.2\n",
        "\n",
        "Write a function `compare_list()` which\n",
        "- takes in two lists `l1` and `l2` of integers,\n",
        "- creates and returns a new list based on the following rules.\n",
        "    - the first item will be 1, if the first item in `l1` is greater than the first item in `l2`;\n",
        "    - the first item will be -1, if the first item in `l1` is less than the first item in `l2`;\n",
        "    - the first item will be 0, if the first items in the two lists are equal.\n",
        "    - repeats for the second item, third item, ... until the end of the shorter list between `l1` and `l2`.\n",
        "    - ignore the remaining items in the longer list.\n",
        "\n",
        "*Sample Tests:*\n",
        "```text\n",
        "> compare_list([1, 2, 3], [3, 2, 1, 0])\n",
        "[-1, 0, 1]\n",
        "\n",
        "> compare_list([1, 3, 5, 7, 9], [-1, -3])\n",
        "[1, 1]\n",
        "\n",
        "> compare_list([5, 5], [5])\n",
        "[0]\n",
        "```"
      ]
    },
    {
      "cell_type": "code",
      "execution_count": null,
      "id": "a79ba4c4",
      "metadata": {
        "id": "a79ba4c4"
      },
      "outputs": [],
      "source": [
        "## Code here"
      ]
    },
    {
      "cell_type": "code",
      "execution_count": null,
      "id": "7e63bedf",
      "metadata": {
        "id": "7e63bedf"
      },
      "outputs": [],
      "source": [
        "## Test Cases\n",
        "\n",
        "print(\n",
        "compare_list([1, 2, 3], [3, 2, 1, 0]),\n",
        "compare_list([1, 3, 5, 7, 9], [-1, -3]),\n",
        "compare_list([5, 5], [5])\n",
        "\n",
        ")"
      ]
    },
    {
      "cell_type": "markdown",
      "id": "cd5abaf1",
      "metadata": {
        "id": "cd5abaf1"
      },
      "source": [
        "## 12.5 Nested List\n",
        "Items in a list can also be lists, making the list a nested list. For example,\n",
        "```python\n",
        "nested_list = [[1, 2], [3, 4, 5], [6]]\n",
        "```\n",
        "`nested_list` has 3 elements, each element is a list:\n",
        "\n",
        "|row/col| 0| 1| 2|\n",
        "|-|- | -| -|\n",
        "|0| 1 | 2 | |\n",
        "|1| 3 | 4 | 5 |\n",
        "|2| 6 | | |\n",
        "\n",
        "```\n",
        "[\n",
        "    [1, 2],     # nested_list[0],\n",
        "    [3, 4, 5],  # nested_list[1]\n",
        "    [6]         # nested_list[2]\n",
        "]\n",
        "```\n",
        "To access the integer 4, we use `nested_list[1][1]`\n"
      ]
    },
    {
      "cell_type": "code",
      "execution_count": null,
      "id": "f08835cb",
      "metadata": {
        "id": "f08835cb"
      },
      "outputs": [],
      "source": [
        "nested_list = [[1, 2], [3, 4, 5], [6]]\n",
        "print(nested_list[1])\n",
        "print(nested_list[1][1])"
      ]
    },
    {
      "cell_type": "code",
      "execution_count": null,
      "id": "9086495c",
      "metadata": {
        "id": "9086495c"
      },
      "outputs": [],
      "source": [
        "'''\n",
        "Exammple 12.5 : Print the values in the list row by row:\n",
        "outputs:\n",
        "1,2\n",
        "3,4,5\n",
        "6\n",
        "'''\n",
        "\n",
        "# Outer for loop for number of rows\n",
        "    # Inner for loop for number of columns\n",
        "        print( nested_list[i][j], end=\",\")\n",
        "    print()\n"
      ]
    },
    {
      "cell_type": "markdown",
      "id": "346989f7",
      "metadata": {
        "id": "346989f7"
      },
      "source": [
        "#### Exercise 12.5\n",
        "\n",
        "Write a function `search()` which\n",
        "- takes in the list `name_height_mass` and a string representing a name,\n",
        "- returns the list containing the name, height and mass of the student if the name (case-sensitive) can be found; returns `False` otherwise.\n",
        "\n",
        "*Test Cases:*\n",
        "```text\n",
        "> search(name_height_mass, \"Bob\")\n",
        "['Bob', 1.71, 62.9]\n",
        "\n",
        "> search(name_height_mass, \"James\")\n",
        "False\n",
        "\n",
        "> search(name_height_mass, \"deon\")\n",
        "False\n",
        "```\n"
      ]
    },
    {
      "cell_type": "code",
      "execution_count": null,
      "id": "081b46c5",
      "metadata": {
        "id": "081b46c5"
      },
      "outputs": [],
      "source": [
        "name_height_mass = [\n",
        "    [\"Alex\", 1.78, 76.2],\n",
        "    [\"Bob\", 1.71, 62.9],\n",
        "    [\"Charmaine\", 1.59, 41.1],\n",
        "    [\"Deon\", 1.64, 49.8],\n",
        "    [\"Elizabeth\", 1.55, 42.2],\n",
        "    [\"Felix\", 1.88, 94.1],\n",
        "    [\"Grace\", 1.58, 39.5],\n",
        "    [\"Harrison\", 1.77, 72.1],\n",
        "    [\"Isabella\", 1.6, 47.8],\n",
        "    [\"Joshua\", 1.66, 51.2]\n",
        "]"
      ]
    },
    {
      "cell_type": "code",
      "execution_count": null,
      "id": "f28bcf67",
      "metadata": {
        "id": "f28bcf67"
      },
      "outputs": [],
      "source": [
        "# Code here\n"
      ]
    },
    {
      "cell_type": "code",
      "execution_count": null,
      "id": "2eaf2782",
      "metadata": {
        "id": "2eaf2782"
      },
      "outputs": [],
      "source": [
        "## Test cases\n",
        "print(\n",
        "search(name_height_mass, \"Bob\"),\n",
        "search(name_height_mass, \"James\"),\n",
        "search(name_height_mass, \"deon\")\n",
        ")\n"
      ]
    }
  ],
  "metadata": {
    "kernelspec": {
      "display_name": "python12",
      "language": "python",
      "name": "python3"
    },
    "language_info": {
      "codemirror_mode": {
        "name": "ipython",
        "version": 3
      },
      "file_extension": ".py",
      "mimetype": "text/x-python",
      "name": "python",
      "nbconvert_exporter": "python",
      "pygments_lexer": "ipython3",
      "version": "3.12.0"
    },
    "colab": {
      "provenance": [],
      "include_colab_link": true
    }
  },
  "nbformat": 4,
  "nbformat_minor": 5
}